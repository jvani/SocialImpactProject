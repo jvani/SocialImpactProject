{
 "cells": [
  {
   "cell_type": "code",
   "execution_count": 1,
   "metadata": {
    "collapsed": false
   },
   "outputs": [],
   "source": [
    "import os\n",
    "import numpy as np\n",
    "import pandas as pd\n",
    "import difflib as dl\n",
    "import subprocess\n",
    "import os\n",
    "\n",
    "# make sure we are at the top of the repo\n",
    "wd = subprocess.check_output('git rev-parse --show-toplevel', shell = True)\n",
    "os.chdir(wd[:-1]) #-1 removes \\n"
   ]
  },
  {
   "cell_type": "code",
   "execution_count": 3,
   "metadata": {
    "collapsed": false
   },
   "outputs": [
    {
     "name": "stderr",
     "output_type": "stream",
     "text": [
      "/opt/rh/anaconda/root/envs/PUI2016_Python2/lib/python2.7/site-packages/ipykernel/__main__.py:5: FutureWarning: sort(columns=....) is deprecated, use sort_values(by=.....)\n"
     ]
    }
   ],
   "source": [
    "# bring in and clean wapo data\n",
    "wapo = pd.read_csv('Data/PostKillingsData.csv')\n",
    "wapo['date'] = pd.to_datetime(wapo['date'])\n",
    "wapo = wapo.loc[:,['name','date','age','gender','race','city','state']]\n",
    "wapo = wapo.sort(['date','name'])\n",
    "wapo = wapo[wapo['date'] < '2017-01-01']\n",
    "wapo = wapo.reset_index()"
   ]
  },
  {
   "cell_type": "code",
   "execution_count": 5,
   "metadata": {
    "collapsed": false
   },
   "outputs": [
    {
     "name": "stderr",
     "output_type": "stream",
     "text": [
      "/opt/rh/anaconda/root/envs/PUI2016_Python2/lib/python2.7/site-packages/ipykernel/__main__.py:8: SettingWithCopyWarning: \n",
      "A value is trying to be set on a copy of a slice from a DataFrame\n",
      "\n",
      "See the caveats in the documentation: http://pandas.pydata.org/pandas-docs/stable/indexing.html#indexing-view-versus-copy\n",
      "/opt/rh/anaconda/root/envs/PUI2016_Python2/lib/python2.7/site-packages/ipykernel/__main__.py:10: FutureWarning: sort(columns=....) is deprecated, use sort_values(by=.....)\n"
     ]
    }
   ],
   "source": [
    "# bring in and clean fbi data\n",
    "# https://mappingpoliceviolence.org/s/MPVDatasetDownload-d4a6.xlsx convert first tab to csv\n",
    "fbi = pd.read_csv('Data/MPVDatasetDownload.csv')\n",
    "fbi = fbi.iloc[:,[0,1,2,3,5,7,8]]\n",
    "fbi.columns = ['name','age','gender','race','date','city','state']\n",
    "fbi = fbi.loc[:,['name','date','age','gender','race','city','state']]\n",
    "fbi['date'] = pd.to_datetime(fbi['date'])\n",
    "fbi['age'][fbi['age'] == 'Unknown'] = 0\n",
    "fbi['age'] = fbi['age'].astype(float)\n",
    "fbi = fbi.sort(['date','name'])\n",
    "fbi = fbi[fbi['date'] > '2015-01-01']\n",
    "fbi = fbi[fbi['date'] < '2017-01-01']\n",
    "fbi = fbi.reset_index()"
   ]
  },
  {
   "cell_type": "code",
   "execution_count": 4,
   "metadata": {
    "collapsed": false
   },
   "outputs": [
    {
     "name": "stdout",
     "output_type": "stream",
     "text": [
      "We can match 68% based on name only\n"
     ]
    }
   ],
   "source": [
    "# how much can we match by name only?\n",
    "print 'We can match {0:.0f}% based on name only'.format(100*len(wapo[np.in1d(wapo['name'], fbi['name'])]) / float(len(wapo)))\n",
    "# not very much. spelling differences, middle names, etc"
   ]
  },
  {
   "cell_type": "code",
   "execution_count": 5,
   "metadata": {
    "collapsed": false
   },
   "outputs": [
    {
     "name": "stdout",
     "output_type": "stream",
     "text": [
      "['W' 'A' 'H' 'B' 'O' nan 'N']\n",
      "['White' 'Asian' 'Hispanic' 'Black' 'Unknown race' 'Pacific Islander'\n",
      " 'Native American']\n"
     ]
    }
   ],
   "source": [
    "# we need to make columns match better\n",
    "print wapo['race'].unique()\n",
    "print fbi['race'].unique()"
   ]
  },
  {
   "cell_type": "code",
   "execution_count": 6,
   "metadata": {
    "collapsed": false
   },
   "outputs": [
    {
     "name": "stdout",
     "output_type": "stream",
     "text": [
      "93% of Wapo records are W/A/H/B\n",
      "93% of FBI records are W/A/H/B\n"
     ]
    }
   ],
   "source": [
    "# how to best match race?\n",
    "print '{0:.0f}% of Wapo records are W/A/H/B'.format(100*len(wapo[np.in1d(wapo['race'], ['W','A','H','B'])])/float(len(wapo)))\n",
    "print '{0:.0f}% of FBI records are W/A/H/B'.format(100*len(fbi[np.in1d(fbi['race'], \n",
    "                                                                        ['White','Asian','Hispanic','Black'])])/float(len(fbi)))"
   ]
  },
  {
   "cell_type": "code",
   "execution_count": 7,
   "metadata": {
    "collapsed": false
   },
   "outputs": [
    {
     "name": "stderr",
     "output_type": "stream",
     "text": [
      "/opt/rh/anaconda/root/envs/PUI2016_Python2/lib/python2.7/site-packages/ipykernel/__main__.py:7: SettingWithCopyWarning: \n",
      "A value is trying to be set on a copy of a slice from a DataFrame\n",
      "\n",
      "See the caveats in the documentation: http://pandas.pydata.org/pandas-docs/stable/indexing.html#indexing-view-versus-copy\n",
      "/opt/rh/anaconda/root/envs/PUI2016_Python2/lib/python2.7/site-packages/ipykernel/__main__.py:8: SettingWithCopyWarning: \n",
      "A value is trying to be set on a copy of a slice from a DataFrame\n",
      "\n",
      "See the caveats in the documentation: http://pandas.pydata.org/pandas-docs/stable/indexing.html#indexing-view-versus-copy\n"
     ]
    }
   ],
   "source": [
    "# clean up race columns\n",
    "race_dict = {'W':'White',\n",
    "            'A':'Asian',\n",
    "            'H':'Hispanic',\n",
    "            'B':'Black',\n",
    "            'O':'Other'}\n",
    "wapo['race'][~np.in1d(wapo['race'],['W','A','H','B'])] = 'O'\n",
    "fbi['race'][~np.in1d(fbi['race'],['White','Asian','Hispanic','Black'])] = 'Other'\n",
    "\n",
    "wapo['race'] = [race_dict[i] for i in wapo['race']]"
   ]
  },
  {
   "cell_type": "code",
   "execution_count": 8,
   "metadata": {
    "collapsed": false
   },
   "outputs": [
    {
     "name": "stdout",
     "output_type": "stream",
     "text": [
      "Wapo gender categories: ['M' 'F']\n",
      "FBI gender categories: ['Male' 'Female' 'Unknown' 'Transgender' nan]\n",
      "100% of Wapo records are M/F\n",
      "100% of FBI records are M/F\n"
     ]
    }
   ],
   "source": [
    "# how to best match gender?\n",
    "\n",
    "print 'Wapo gender categories: {}'.format(wapo['gender'].unique())\n",
    "print 'FBI gender categories: {}'.format(fbi['gender'].unique())\n",
    "\n",
    "print '{0:.0f}% of Wapo records are M/F'.format(100*len(wapo[np.in1d(wapo['gender'], ['M','F'])])/float(len(wapo)))\n",
    "print '{0:.0f}% of FBI records are M/F'.format(100*len(fbi[np.in1d(fbi['gender'], \n",
    "                                                                        ['Male','Female'])])/float(len(fbi)))"
   ]
  },
  {
   "cell_type": "code",
   "execution_count": 9,
   "metadata": {
    "collapsed": false
   },
   "outputs": [
    {
     "data": {
      "text/html": [
       "<div>\n",
       "<table border=\"1\" class=\"dataframe\">\n",
       "  <thead>\n",
       "    <tr style=\"text-align: right;\">\n",
       "      <th></th>\n",
       "      <th>index</th>\n",
       "      <th>name</th>\n",
       "      <th>date</th>\n",
       "      <th>age</th>\n",
       "      <th>gender</th>\n",
       "      <th>race</th>\n",
       "      <th>city</th>\n",
       "      <th>state</th>\n",
       "    </tr>\n",
       "  </thead>\n",
       "  <tbody>\n",
       "    <tr>\n",
       "      <th>46</th>\n",
       "      <td>2299</td>\n",
       "      <td>Name withheld by police</td>\n",
       "      <td>2015-01-16</td>\n",
       "      <td>0.0</td>\n",
       "      <td>Unknown</td>\n",
       "      <td>Other</td>\n",
       "      <td>Mabank</td>\n",
       "      <td>TX</td>\n",
       "    </tr>\n",
       "    <tr>\n",
       "      <th>1102</th>\n",
       "      <td>1243</td>\n",
       "      <td>Tuan Hoang</td>\n",
       "      <td>2015-11-30</td>\n",
       "      <td>0.0</td>\n",
       "      <td>Unknown</td>\n",
       "      <td>Asian</td>\n",
       "      <td>Aurora</td>\n",
       "      <td>CO</td>\n",
       "    </tr>\n",
       "    <tr>\n",
       "      <th>1316</th>\n",
       "      <td>1030</td>\n",
       "      <td>Kayden Clarke transitioning from Danielle Jacobs</td>\n",
       "      <td>2016-02-04</td>\n",
       "      <td>24.0</td>\n",
       "      <td>Transgender</td>\n",
       "      <td>White</td>\n",
       "      <td>Mesa</td>\n",
       "      <td>AZ</td>\n",
       "    </tr>\n",
       "    <tr>\n",
       "      <th>1802</th>\n",
       "      <td>542</td>\n",
       "      <td>Name withheld by police</td>\n",
       "      <td>2016-07-04</td>\n",
       "      <td>29.0</td>\n",
       "      <td>NaN</td>\n",
       "      <td>Black</td>\n",
       "      <td>Rosser</td>\n",
       "      <td>TX</td>\n",
       "    </tr>\n",
       "  </tbody>\n",
       "</table>\n",
       "</div>"
      ],
      "text/plain": [
       "      index                                              name       date  \\\n",
       "46     2299                           Name withheld by police 2015-01-16   \n",
       "1102   1243                                        Tuan Hoang 2015-11-30   \n",
       "1316   1030  Kayden Clarke transitioning from Danielle Jacobs 2016-02-04   \n",
       "1802    542                           Name withheld by police 2016-07-04   \n",
       "\n",
       "       age       gender   race    city state  \n",
       "46     0.0      Unknown  Other  Mabank    TX  \n",
       "1102   0.0      Unknown  Asian  Aurora    CO  \n",
       "1316  24.0  Transgender  White    Mesa    AZ  \n",
       "1802  29.0          NaN  Black  Rosser    TX  "
      ]
     },
     "execution_count": 9,
     "metadata": {},
     "output_type": "execute_result"
    }
   ],
   "source": [
    "# hmm what's going on?\n",
    "fbi[~np.in1d(fbi['gender'], ['Male','Female'])]"
   ]
  },
  {
   "cell_type": "code",
   "execution_count": 10,
   "metadata": {
    "collapsed": false
   },
   "outputs": [
    {
     "data": {
      "text/html": [
       "<div>\n",
       "<table border=\"1\" class=\"dataframe\">\n",
       "  <thead>\n",
       "    <tr style=\"text-align: right;\">\n",
       "      <th></th>\n",
       "      <th>index</th>\n",
       "      <th>name</th>\n",
       "      <th>date</th>\n",
       "      <th>age</th>\n",
       "      <th>gender</th>\n",
       "      <th>race</th>\n",
       "      <th>city</th>\n",
       "      <th>state</th>\n",
       "    </tr>\n",
       "  </thead>\n",
       "  <tbody>\n",
       "    <tr>\n",
       "      <th>901</th>\n",
       "      <td>899</td>\n",
       "      <td>Tuan Hoang</td>\n",
       "      <td>2015-11-30</td>\n",
       "      <td>25.0</td>\n",
       "      <td>M</td>\n",
       "      <td>Asian</td>\n",
       "      <td>Aurora</td>\n",
       "      <td>CO</td>\n",
       "    </tr>\n",
       "    <tr>\n",
       "      <th>1080</th>\n",
       "      <td>1078</td>\n",
       "      <td>Kayden Clarke</td>\n",
       "      <td>2016-02-04</td>\n",
       "      <td>24.0</td>\n",
       "      <td>M</td>\n",
       "      <td>White</td>\n",
       "      <td>Mesa</td>\n",
       "      <td>AZ</td>\n",
       "    </tr>\n",
       "  </tbody>\n",
       "</table>\n",
       "</div>"
      ],
      "text/plain": [
       "      index           name       date   age gender   race    city state\n",
       "901     899     Tuan Hoang 2015-11-30  25.0      M  Asian  Aurora    CO\n",
       "1080   1078  Kayden Clarke 2016-02-04  24.0      M  White    Mesa    AZ"
      ]
     },
     "execution_count": 10,
     "metadata": {},
     "output_type": "execute_result"
    }
   ],
   "source": [
    "wapo[np.in1d(wapo['name'], ['Tuan Hoang','Kayden Clarke','Danielle Jacobs'])]"
   ]
  },
  {
   "cell_type": "code",
   "execution_count": 11,
   "metadata": {
    "collapsed": false
   },
   "outputs": [
    {
     "data": {
      "text/html": [
       "<div>\n",
       "<table border=\"1\" class=\"dataframe\">\n",
       "  <thead>\n",
       "    <tr style=\"text-align: right;\">\n",
       "      <th></th>\n",
       "      <th>index</th>\n",
       "      <th>name</th>\n",
       "      <th>date</th>\n",
       "      <th>age</th>\n",
       "      <th>gender</th>\n",
       "      <th>race</th>\n",
       "      <th>city</th>\n",
       "      <th>state</th>\n",
       "    </tr>\n",
       "  </thead>\n",
       "  <tbody>\n",
       "    <tr>\n",
       "      <th>37</th>\n",
       "      <td>37</td>\n",
       "      <td>Scott Hall</td>\n",
       "      <td>2015-01-16</td>\n",
       "      <td>41.0</td>\n",
       "      <td>M</td>\n",
       "      <td>White</td>\n",
       "      <td>Mabank</td>\n",
       "      <td>TX</td>\n",
       "    </tr>\n",
       "    <tr>\n",
       "      <th>1499</th>\n",
       "      <td>1500</td>\n",
       "      <td>TK TK</td>\n",
       "      <td>2016-07-04</td>\n",
       "      <td>NaN</td>\n",
       "      <td>M</td>\n",
       "      <td>Other</td>\n",
       "      <td>Rosser</td>\n",
       "      <td>TX</td>\n",
       "    </tr>\n",
       "  </tbody>\n",
       "</table>\n",
       "</div>"
      ],
      "text/plain": [
       "      index        name       date   age gender   race    city state\n",
       "37       37  Scott Hall 2015-01-16  41.0      M  White  Mabank    TX\n",
       "1499   1500       TK TK 2016-07-04   NaN      M  Other  Rosser    TX"
      ]
     },
     "execution_count": 11,
     "metadata": {},
     "output_type": "execute_result"
    }
   ],
   "source": [
    "wapo[np.in1d(wapo['city'], ['Mabank','Rosser'])]"
   ]
  },
  {
   "cell_type": "code",
   "execution_count": 12,
   "metadata": {
    "collapsed": false
   },
   "outputs": [
    {
     "name": "stderr",
     "output_type": "stream",
     "text": [
      "/opt/rh/anaconda/root/envs/PUI2016_Python2/lib/python2.7/site-packages/ipykernel/__main__.py:2: SettingWithCopyWarning: \n",
      "A value is trying to be set on a copy of a slice from a DataFrame\n",
      "\n",
      "See the caveats in the documentation: http://pandas.pydata.org/pandas-docs/stable/indexing.html#indexing-view-versus-copy\n",
      "  from ipykernel import kernelapp as app\n"
     ]
    }
   ],
   "source": [
    "# all non M/F FBI records are classified as M by wapo. For ease of matching in this analysis, I will take Wapo's answer\n",
    "fbi['gender'][~np.in1d(fbi['gender'],['Male','Female'])] = 'Male'\n",
    "\n",
    "# and let's make them match\n",
    "gender_dict = {'M':'Male',\n",
    "               'F':'Female'}\n",
    "wapo['gender'] = [gender_dict[i] for i in wapo['gender']]"
   ]
  },
  {
   "cell_type": "code",
   "execution_count": 13,
   "metadata": {
    "collapsed": false
   },
   "outputs": [
    {
     "data": {
      "text/html": [
       "<div>\n",
       "<table border=\"1\" class=\"dataframe\">\n",
       "  <thead>\n",
       "    <tr style=\"text-align: right;\">\n",
       "      <th></th>\n",
       "      <th>index</th>\n",
       "      <th>name</th>\n",
       "      <th>date</th>\n",
       "      <th>age</th>\n",
       "      <th>gender</th>\n",
       "      <th>race</th>\n",
       "      <th>city</th>\n",
       "      <th>state</th>\n",
       "    </tr>\n",
       "  </thead>\n",
       "  <tbody>\n",
       "    <tr>\n",
       "      <th>0</th>\n",
       "      <td>1</td>\n",
       "      <td>Lewis Lee Lembke</td>\n",
       "      <td>2015-01-02</td>\n",
       "      <td>47.0</td>\n",
       "      <td>Male</td>\n",
       "      <td>White</td>\n",
       "      <td>Aloha</td>\n",
       "      <td>OR</td>\n",
       "    </tr>\n",
       "    <tr>\n",
       "      <th>1</th>\n",
       "      <td>0</td>\n",
       "      <td>Tim Elliot</td>\n",
       "      <td>2015-01-02</td>\n",
       "      <td>53.0</td>\n",
       "      <td>Male</td>\n",
       "      <td>Asian</td>\n",
       "      <td>Shelton</td>\n",
       "      <td>WA</td>\n",
       "    </tr>\n",
       "    <tr>\n",
       "      <th>2</th>\n",
       "      <td>2</td>\n",
       "      <td>John Paul Quintero</td>\n",
       "      <td>2015-01-03</td>\n",
       "      <td>23.0</td>\n",
       "      <td>Male</td>\n",
       "      <td>Hispanic</td>\n",
       "      <td>Wichita</td>\n",
       "      <td>KS</td>\n",
       "    </tr>\n",
       "    <tr>\n",
       "      <th>3</th>\n",
       "      <td>5</td>\n",
       "      <td>Kenneth Joe Brown</td>\n",
       "      <td>2015-01-04</td>\n",
       "      <td>18.0</td>\n",
       "      <td>Male</td>\n",
       "      <td>White</td>\n",
       "      <td>Guthrie</td>\n",
       "      <td>OK</td>\n",
       "    </tr>\n",
       "    <tr>\n",
       "      <th>4</th>\n",
       "      <td>3</td>\n",
       "      <td>Matthew Hoffman</td>\n",
       "      <td>2015-01-04</td>\n",
       "      <td>32.0</td>\n",
       "      <td>Male</td>\n",
       "      <td>White</td>\n",
       "      <td>San Francisco</td>\n",
       "      <td>CA</td>\n",
       "    </tr>\n",
       "  </tbody>\n",
       "</table>\n",
       "</div>"
      ],
      "text/plain": [
       "   index                name       date   age gender      race           city  \\\n",
       "0      1    Lewis Lee Lembke 2015-01-02  47.0   Male     White          Aloha   \n",
       "1      0          Tim Elliot 2015-01-02  53.0   Male     Asian        Shelton   \n",
       "2      2  John Paul Quintero 2015-01-03  23.0   Male  Hispanic        Wichita   \n",
       "3      5   Kenneth Joe Brown 2015-01-04  18.0   Male     White        Guthrie   \n",
       "4      3     Matthew Hoffman 2015-01-04  32.0   Male     White  San Francisco   \n",
       "\n",
       "  state  \n",
       "0    OR  \n",
       "1    WA  \n",
       "2    KS  \n",
       "3    OK  \n",
       "4    CA  "
      ]
     },
     "execution_count": 13,
     "metadata": {},
     "output_type": "execute_result"
    }
   ],
   "source": [
    "# all columns should match now. \n",
    "wapo.head()"
   ]
  },
  {
   "cell_type": "code",
   "execution_count": 14,
   "metadata": {
    "collapsed": false
   },
   "outputs": [],
   "source": [
    "# string concat to create id variable\n",
    "wapo['id'] = wapo.apply(lambda x:'%s%s%s%s%s%s%s' % (x['name'],x['date'],x['age'],x['gender'],x['race'],x['city'],x['state']),axis=1)\n",
    "fbi['id'] = fbi.apply(lambda x:'%s%s%s%s%s%s%s' % (x['name'],x['date'],x['age'],x['gender'],x['race'],x['city'],x['state']),axis=1)"
   ]
  },
  {
   "cell_type": "code",
   "execution_count": 15,
   "metadata": {
    "collapsed": false
   },
   "outputs": [],
   "source": [
    "# how many perfect matches\n",
    "matched = [np.in1d(i, fbi['id']) for i in wapo['id']]"
   ]
  },
  {
   "cell_type": "code",
   "execution_count": 16,
   "metadata": {
    "collapsed": false
   },
   "outputs": [
    {
     "name": "stdout",
     "output_type": "stream",
     "text": [
      "We can match 45% based on perfect id\n"
     ]
    }
   ],
   "source": [
    "print 'We can match {0:.0f}% based on perfect id'.format(100*len(wapo[np.in1d(wapo['id'], fbi['id'])]) / float(len(wapo)))"
   ]
  },
  {
   "cell_type": "code",
   "execution_count": 18,
   "metadata": {
    "collapsed": false
   },
   "outputs": [],
   "source": [
    "# of course this is worse than name only. but let's try some fuzzy matching\n",
    "\n",
    "def best_match(x, y):\n",
    "    rats = [dl.SequenceMatcher(None, x, i).ratio() for i in y]\n",
    "    return([max(rats), y[rats.index(max(rats))]])"
   ]
  },
  {
   "cell_type": "code",
   "execution_count": 19,
   "metadata": {
    "collapsed": false
   },
   "outputs": [],
   "source": [
    "# what does FBI report that WAPO missed?\n",
    "# slow... half an hour maybe?\n",
    "fbi[['score','wapo_id']] = fbi['id'].apply(lambda x: best_match(x, wapo['id'])).apply(pd.Series)"
   ]
  },
  {
   "cell_type": "code",
   "execution_count": 31,
   "metadata": {
    "collapsed": false,
    "scrolled": false
   },
   "outputs": [
    {
     "name": "stderr",
     "output_type": "stream",
     "text": [
      "/opt/rh/anaconda/root/envs/PUI2016_Python2/lib/python2.7/site-packages/ipykernel/__main__.py:1: FutureWarning: sort(columns=....) is deprecated, use sort_values(by=.....)\n",
      "  if __name__ == '__main__':\n"
     ]
    },
    {
     "data": {
      "text/html": [
       "<div>\n",
       "<table border=\"1\" class=\"dataframe\">\n",
       "  <thead>\n",
       "    <tr style=\"text-align: right;\">\n",
       "      <th></th>\n",
       "      <th>index</th>\n",
       "      <th>name</th>\n",
       "      <th>date</th>\n",
       "      <th>age</th>\n",
       "      <th>gender</th>\n",
       "      <th>race</th>\n",
       "      <th>city</th>\n",
       "      <th>state</th>\n",
       "      <th>id</th>\n",
       "      <th>score</th>\n",
       "      <th>wapo_id</th>\n",
       "    </tr>\n",
       "  </thead>\n",
       "  <tbody>\n",
       "    <tr>\n",
       "      <th>1539</th>\n",
       "      <td>805</td>\n",
       "      <td>Luis Soto</td>\n",
       "      <td>2016-04-10</td>\n",
       "      <td>29.0</td>\n",
       "      <td>Male</td>\n",
       "      <td>Hispanic</td>\n",
       "      <td>Memphis</td>\n",
       "      <td>TN</td>\n",
       "      <td>Luis Soto2016-04-10 00:00:0029.0MaleHispanicMe...</td>\n",
       "      <td>0.803571</td>\n",
       "      <td>Ricardo Tenorio2016-09-09 00:00:0032.0MaleHisp...</td>\n",
       "    </tr>\n",
       "    <tr>\n",
       "      <th>2194</th>\n",
       "      <td>153</td>\n",
       "      <td>William Ray Score Jr.</td>\n",
       "      <td>2016-11-11</td>\n",
       "      <td>47.0</td>\n",
       "      <td>Male</td>\n",
       "      <td>White</td>\n",
       "      <td>NaN</td>\n",
       "      <td>CO</td>\n",
       "      <td>William Ray Score Jr.2016-11-11 00:00:0047.0Ma...</td>\n",
       "      <td>0.806452</td>\n",
       "      <td>William Ray Score2016-11-11 00:00:0047.0MaleOt...</td>\n",
       "    </tr>\n",
       "    <tr>\n",
       "      <th>244</th>\n",
       "      <td>2100</td>\n",
       "      <td>Justin Fowler</td>\n",
       "      <td>2015-03-18</td>\n",
       "      <td>24.0</td>\n",
       "      <td>Male</td>\n",
       "      <td>Other</td>\n",
       "      <td>Lukachukai</td>\n",
       "      <td>AZ</td>\n",
       "      <td>Justin Fowler2015-03-18 00:00:0024.0MaleOtherL...</td>\n",
       "      <td>0.807018</td>\n",
       "      <td>Justin Fowler2015-03-20 00:00:0024.0MaleOtherR...</td>\n",
       "    </tr>\n",
       "    <tr>\n",
       "      <th>2172</th>\n",
       "      <td>171</td>\n",
       "      <td>Joshua Beal</td>\n",
       "      <td>2016-11-05</td>\n",
       "      <td>25.0</td>\n",
       "      <td>Male</td>\n",
       "      <td>Black</td>\n",
       "      <td>Chicago</td>\n",
       "      <td>IL</td>\n",
       "      <td>Joshua Beal2016-11-05 00:00:0025.0MaleBlackChi...</td>\n",
       "      <td>0.807339</td>\n",
       "      <td>Cleotha Mitchell2016-11-25 00:00:0037.0MaleBla...</td>\n",
       "    </tr>\n",
       "    <tr>\n",
       "      <th>1250</th>\n",
       "      <td>1092</td>\n",
       "      <td>Cory Lee \"Jasper\" Henderson</td>\n",
       "      <td>2016-01-17</td>\n",
       "      <td>31.0</td>\n",
       "      <td>Male</td>\n",
       "      <td>White</td>\n",
       "      <td>Holladay</td>\n",
       "      <td>UT</td>\n",
       "      <td>Cory Lee \"Jasper\" Henderson2016-01-17 00:00:00...</td>\n",
       "      <td>0.808824</td>\n",
       "      <td>Corey Lee Henderson2016-01-17 00:00:0031.0Male...</td>\n",
       "    </tr>\n",
       "  </tbody>\n",
       "</table>\n",
       "</div>"
      ],
      "text/plain": [
       "      index                         name       date   age gender      race  \\\n",
       "1539    805                    Luis Soto 2016-04-10  29.0   Male  Hispanic   \n",
       "2194    153        William Ray Score Jr. 2016-11-11  47.0   Male     White   \n",
       "244    2100                Justin Fowler 2015-03-18  24.0   Male     Other   \n",
       "2172    171                  Joshua Beal 2016-11-05  25.0   Male     Black   \n",
       "1250   1092  Cory Lee \"Jasper\" Henderson 2016-01-17  31.0   Male     White   \n",
       "\n",
       "            city state                                                 id  \\\n",
       "1539     Memphis    TN  Luis Soto2016-04-10 00:00:0029.0MaleHispanicMe...   \n",
       "2194         NaN    CO  William Ray Score Jr.2016-11-11 00:00:0047.0Ma...   \n",
       "244   Lukachukai    AZ  Justin Fowler2015-03-18 00:00:0024.0MaleOtherL...   \n",
       "2172     Chicago    IL  Joshua Beal2016-11-05 00:00:0025.0MaleBlackChi...   \n",
       "1250    Holladay    UT  Cory Lee \"Jasper\" Henderson2016-01-17 00:00:00...   \n",
       "\n",
       "         score                                            wapo_id  \n",
       "1539  0.803571  Ricardo Tenorio2016-09-09 00:00:0032.0MaleHisp...  \n",
       "2194  0.806452  William Ray Score2016-11-11 00:00:0047.0MaleOt...  \n",
       "244   0.807018  Justin Fowler2015-03-20 00:00:0024.0MaleOtherR...  \n",
       "2172  0.807339  Cleotha Mitchell2016-11-25 00:00:0037.0MaleBla...  \n",
       "1250  0.808824  Corey Lee Henderson2016-01-17 00:00:0031.0Male...  "
      ]
     },
     "execution_count": 31,
     "metadata": {},
     "output_type": "execute_result"
    }
   ],
   "source": [
    "fbi.sort('score').iloc[450:455,:]"
   ]
  },
  {
   "cell_type": "code",
   "execution_count": 32,
   "metadata": {
    "collapsed": true
   },
   "outputs": [],
   "source": [
    "# what does WAPO report that FBI missed?\n",
    "# also slow\n",
    "wapo[['score','fbi_id']] = wapo['id'].apply(lambda x: best_match(x, fbi['id'])).apply(pd.Series)"
   ]
  },
  {
   "cell_type": "code",
   "execution_count": 41,
   "metadata": {
    "collapsed": false
   },
   "outputs": [
    {
     "name": "stderr",
     "output_type": "stream",
     "text": [
      "/opt/rh/anaconda/root/envs/PUI2016_Python2/lib/python2.7/site-packages/ipykernel/__main__.py:1: FutureWarning: sort(columns=....) is deprecated, use sort_values(by=.....)\n",
      "  if __name__ == '__main__':\n"
     ]
    },
    {
     "data": {
      "text/html": [
       "<div>\n",
       "<table border=\"1\" class=\"dataframe\">\n",
       "  <thead>\n",
       "    <tr style=\"text-align: right;\">\n",
       "      <th></th>\n",
       "      <th>index</th>\n",
       "      <th>name</th>\n",
       "      <th>date</th>\n",
       "      <th>age</th>\n",
       "      <th>gender</th>\n",
       "      <th>race</th>\n",
       "      <th>city</th>\n",
       "      <th>state</th>\n",
       "      <th>id</th>\n",
       "      <th>score</th>\n",
       "      <th>fbi_id</th>\n",
       "    </tr>\n",
       "  </thead>\n",
       "  <tbody>\n",
       "    <tr>\n",
       "      <th>1646</th>\n",
       "      <td>1646</td>\n",
       "      <td>TK TK</td>\n",
       "      <td>2016-09-01</td>\n",
       "      <td>NaN</td>\n",
       "      <td>Male</td>\n",
       "      <td>Hispanic</td>\n",
       "      <td>Huntington Park</td>\n",
       "      <td>CA</td>\n",
       "      <td>TK TK2016-09-01 00:00:00nanMaleHispanicHunting...</td>\n",
       "      <td>0.753846</td>\n",
       "      <td>Name withheld by police2016-09-01 00:00:000.0M...</td>\n",
       "    </tr>\n",
       "    <tr>\n",
       "      <th>711</th>\n",
       "      <td>711</td>\n",
       "      <td>Scott Beech</td>\n",
       "      <td>2015-09-19</td>\n",
       "      <td>57.0</td>\n",
       "      <td>Male</td>\n",
       "      <td>White</td>\n",
       "      <td>Washington County</td>\n",
       "      <td>AL</td>\n",
       "      <td>Scott Beech2015-09-19 00:00:0057.0MaleWhiteWas...</td>\n",
       "      <td>0.756303</td>\n",
       "      <td>Scott Beech2015-09-18 00:00:0057.0MaleWhiteSt....</td>\n",
       "    </tr>\n",
       "    <tr>\n",
       "      <th>924</th>\n",
       "      <td>924</td>\n",
       "      <td>Sammy Monroe Echols</td>\n",
       "      <td>2015-12-09</td>\n",
       "      <td>51.0</td>\n",
       "      <td>Male</td>\n",
       "      <td>Other</td>\n",
       "      <td>Pryor</td>\n",
       "      <td>OK</td>\n",
       "      <td>Sammy Monroe Echols2015-12-09 00:00:0051.0Male...</td>\n",
       "      <td>0.756303</td>\n",
       "      <td>Sammy Echols2015-12-09 00:00:0051.0MaleWhiteSp...</td>\n",
       "    </tr>\n",
       "    <tr>\n",
       "      <th>688</th>\n",
       "      <td>687</td>\n",
       "      <td>Bruce Santino</td>\n",
       "      <td>2015-09-10</td>\n",
       "      <td>35.0</td>\n",
       "      <td>Male</td>\n",
       "      <td>Other</td>\n",
       "      <td>Fontana</td>\n",
       "      <td>CA</td>\n",
       "      <td>Bruce Santino2015-09-10 00:00:0035.0MaleOtherF...</td>\n",
       "      <td>0.756757</td>\n",
       "      <td>Santino Burce2015-09-10 00:00:0034.0MaleHispan...</td>\n",
       "    </tr>\n",
       "    <tr>\n",
       "      <th>176</th>\n",
       "      <td>177</td>\n",
       "      <td>Edixon  Franco</td>\n",
       "      <td>2015-03-10</td>\n",
       "      <td>37.0</td>\n",
       "      <td>Male</td>\n",
       "      <td>Hispanic</td>\n",
       "      <td>Ontario</td>\n",
       "      <td>CA</td>\n",
       "      <td>Edixon  Franco2015-03-10 00:00:0037.0MaleHispa...</td>\n",
       "      <td>0.758065</td>\n",
       "      <td>Luis Guillen Wenceslao2015-09-05 00:00:0032.0M...</td>\n",
       "    </tr>\n",
       "  </tbody>\n",
       "</table>\n",
       "</div>"
      ],
      "text/plain": [
       "      index                 name       date   age gender      race  \\\n",
       "1646   1646                TK TK 2016-09-01   NaN   Male  Hispanic   \n",
       "711     711          Scott Beech 2015-09-19  57.0   Male     White   \n",
       "924     924  Sammy Monroe Echols 2015-12-09  51.0   Male     Other   \n",
       "688     687        Bruce Santino 2015-09-10  35.0   Male     Other   \n",
       "176     177       Edixon  Franco 2015-03-10  37.0   Male  Hispanic   \n",
       "\n",
       "                   city state  \\\n",
       "1646    Huntington Park    CA   \n",
       "711   Washington County    AL   \n",
       "924               Pryor    OK   \n",
       "688             Fontana    CA   \n",
       "176             Ontario    CA   \n",
       "\n",
       "                                                     id     score  \\\n",
       "1646  TK TK2016-09-01 00:00:00nanMaleHispanicHunting...  0.753846   \n",
       "711   Scott Beech2015-09-19 00:00:0057.0MaleWhiteWas...  0.756303   \n",
       "924   Sammy Monroe Echols2015-12-09 00:00:0051.0Male...  0.756303   \n",
       "688   Bruce Santino2015-09-10 00:00:0035.0MaleOtherF...  0.756757   \n",
       "176   Edixon  Franco2015-03-10 00:00:0037.0MaleHispa...  0.758065   \n",
       "\n",
       "                                                 fbi_id  \n",
       "1646  Name withheld by police2016-09-01 00:00:000.0M...  \n",
       "711   Scott Beech2015-09-18 00:00:0057.0MaleWhiteSt....  \n",
       "924   Sammy Echols2015-12-09 00:00:0051.0MaleWhiteSp...  \n",
       "688   Santino Burce2015-09-10 00:00:0034.0MaleHispan...  \n",
       "176   Luis Guillen Wenceslao2015-09-05 00:00:0032.0M...  "
      ]
     },
     "execution_count": 41,
     "metadata": {},
     "output_type": "execute_result"
    }
   ],
   "source": [
    "wapo.sort('score')[30:35]"
   ]
  },
  {
   "cell_type": "code",
   "execution_count": null,
   "metadata": {
    "collapsed": true
   },
   "outputs": [],
   "source": [
    "# some other method...."
   ]
  }
 ],
 "metadata": {
  "kernelspec": {
   "display_name": "PUI2016_Python2",
   "language": "python",
   "name": "pui2016_python2"
  },
  "language_info": {
   "codemirror_mode": {
    "name": "ipython",
    "version": 2
   },
   "file_extension": ".py",
   "mimetype": "text/x-python",
   "name": "python",
   "nbconvert_exporter": "python",
   "pygments_lexer": "ipython2",
   "version": "2.7.12"
  }
 },
 "nbformat": 4,
 "nbformat_minor": 0
}
