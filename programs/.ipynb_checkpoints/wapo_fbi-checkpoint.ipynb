{
 "cells": [
  {
   "cell_type": "code",
   "execution_count": 1,
   "metadata": {
    "collapsed": false
   },
   "outputs": [],
   "source": [
    "import os\n",
    "import numpy as np\n",
    "import pandas as pd\n",
    "import difflib as dl\n",
    "import subprocess\n",
    "import os\n",
    "\n",
    "# make sure we are at the top of the repo\n",
    "wd = subprocess.check_output('git rev-parse --show-toplevel', shell = True)\n",
    "os.chdir(wd[:-1]) #-1 removes \\n"
   ]
  },
  {
   "cell_type": "code",
   "execution_count": 2,
   "metadata": {
    "collapsed": false
   },
   "outputs": [
    {
     "name": "stderr",
     "output_type": "stream",
     "text": [
      "/Users/geoffperrin/anaconda2/lib/python2.7/site-packages/ipykernel/__main__.py:5: FutureWarning: sort(columns=....) is deprecated, use sort_values(by=.....)\n"
     ]
    }
   ],
   "source": [
    "# bring in and clean wapo data\n",
    "wapo = pd.read_csv('Data/PostKillingsData.csv')\n",
    "wapo['date'] = pd.to_datetime(wapo['date'])\n",
    "wapo = wapo.loc[:,['name','date','age','gender','race','city','state']]\n",
    "wapo = wapo.sort(['date','name'])\n",
    "wapo = wapo[wapo['date'] < '2017-01-01']\n",
    "wapo = wapo.reset_index()"
   ]
  },
  {
   "cell_type": "code",
   "execution_count": 3,
   "metadata": {
    "collapsed": false
   },
   "outputs": [
    {
     "name": "stderr",
     "output_type": "stream",
     "text": [
      "/Users/geoffperrin/anaconda2/lib/python2.7/site-packages/ipykernel/__main__.py:14: SettingWithCopyWarning: \n",
      "A value is trying to be set on a copy of a slice from a DataFrame\n",
      "\n",
      "See the caveats in the documentation: http://pandas.pydata.org/pandas-docs/stable/indexing.html#indexing-view-versus-copy\n",
      "/Users/geoffperrin/anaconda2/lib/python2.7/site-packages/ipykernel/__main__.py:16: FutureWarning: sort(columns=....) is deprecated, use sort_values(by=.....)\n"
     ]
    }
   ],
   "source": [
    "# bring in and clean fbi data\n",
    "# https://mappingpoliceviolence.org/s/MPVDatasetDownload-d4a6.xlsx convert first tab to csv\n",
    "fbi = pd.read_csv('Data/MPVDatasetDownload.csv')\n",
    "fbi = fbi.iloc[:,[0,1,2,3,5,7,8,12]]\n",
    "fbi.columns = ['name','age','gender','race','date','city','state','cause']\n",
    "fbi = fbi[np.in1d(fbi['cause'],['Gunshot',\n",
    "                                'Gunshot, Taser',\n",
    "                                'Gunshot, Vehicle',\n",
    "                                'Gunshot, Stabbed',\n",
    "                                'Gunshot, Taser, Pepper spray'\n",
    "                               ])]\n",
    "fbi = fbi.loc[:,['name','date','age','gender','race','city','state']]\n",
    "fbi['date'] = pd.to_datetime(fbi['date'])\n",
    "fbi['age'][fbi['age'] == 'Unknown'] = 0\n",
    "fbi['age'] = fbi['age'].astype(float)\n",
    "fbi = fbi.sort(['date','name'])\n",
    "fbi = fbi[fbi['date'] > '2015-01-01']\n",
    "fbi = fbi[fbi['date'] < '2017-01-01']\n",
    "fbi = fbi.reset_index()"
   ]
  },
  {
   "cell_type": "code",
   "execution_count": 4,
   "metadata": {
    "collapsed": false
   },
   "outputs": [
    {
     "name": "stdout",
     "output_type": "stream",
     "text": [
      "We can match 68% based on name only\n"
     ]
    }
   ],
   "source": [
    "# how much can we match by name only?\n",
    "print 'We can match {0:.0f}% based on name only'.format(100*len(wapo[np.in1d(wapo['name'], fbi['name'])]) / float(len(wapo)))\n",
    "# not very much. spelling differences, middle names, etc"
   ]
  },
  {
   "cell_type": "code",
   "execution_count": 5,
   "metadata": {
    "collapsed": false
   },
   "outputs": [
    {
     "name": "stdout",
     "output_type": "stream",
     "text": [
      "['W' 'A' 'H' 'B' 'O' nan 'N']\n",
      "['White' 'Asian' 'Hispanic' 'Black' 'Unknown race' 'Pacific Islander'\n",
      " 'Native American']\n"
     ]
    }
   ],
   "source": [
    "# we need to make columns match better\n",
    "print wapo['race'].unique()\n",
    "print fbi['race'].unique()"
   ]
  },
  {
   "cell_type": "code",
   "execution_count": 6,
   "metadata": {
    "collapsed": false
   },
   "outputs": [
    {
     "name": "stdout",
     "output_type": "stream",
     "text": [
      "93% of Wapo records are W/A/H/B\n",
      "94% of FBI records are W/A/H/B\n"
     ]
    }
   ],
   "source": [
    "# how to best match race?\n",
    "print '{0:.0f}% of Wapo records are W/A/H/B'.format(100*len(wapo[np.in1d(wapo['race'], ['W','A','H','B'])])/float(len(wapo)))\n",
    "print '{0:.0f}% of FBI records are W/A/H/B'.format(100*len(fbi[np.in1d(fbi['race'], \n",
    "                                                                        ['White','Asian','Hispanic','Black'])])/float(len(fbi)))"
   ]
  },
  {
   "cell_type": "code",
   "execution_count": 7,
   "metadata": {
    "collapsed": false
   },
   "outputs": [
    {
     "name": "stderr",
     "output_type": "stream",
     "text": [
      "/Users/geoffperrin/anaconda2/lib/python2.7/site-packages/ipykernel/__main__.py:7: SettingWithCopyWarning: \n",
      "A value is trying to be set on a copy of a slice from a DataFrame\n",
      "\n",
      "See the caveats in the documentation: http://pandas.pydata.org/pandas-docs/stable/indexing.html#indexing-view-versus-copy\n",
      "/Users/geoffperrin/anaconda2/lib/python2.7/site-packages/ipykernel/__main__.py:8: SettingWithCopyWarning: \n",
      "A value is trying to be set on a copy of a slice from a DataFrame\n",
      "\n",
      "See the caveats in the documentation: http://pandas.pydata.org/pandas-docs/stable/indexing.html#indexing-view-versus-copy\n"
     ]
    }
   ],
   "source": [
    "# clean up race columns\n",
    "race_dict = {'W':'White',\n",
    "            'A':'Asian',\n",
    "            'H':'Hispanic',\n",
    "            'B':'Black',\n",
    "            'O':'Other'}\n",
    "wapo['race'][~np.in1d(wapo['race'],['W','A','H','B'])] = 'O'\n",
    "fbi['race'][~np.in1d(fbi['race'],['White','Asian','Hispanic','Black'])] = 'Other'\n",
    "\n",
    "wapo['race'] = [race_dict[i] for i in wapo['race']]"
   ]
  },
  {
   "cell_type": "code",
   "execution_count": 8,
   "metadata": {
    "collapsed": false
   },
   "outputs": [
    {
     "name": "stdout",
     "output_type": "stream",
     "text": [
      "Wapo gender categories: ['M' 'F']\n",
      "FBI gender categories: ['Male' 'Female' 'Unknown' 'Transgender' nan]\n",
      "100% of Wapo records are M/F\n",
      "100% of FBI records are M/F\n"
     ]
    }
   ],
   "source": [
    "# how to best match gender?\n",
    "\n",
    "print 'Wapo gender categories: {}'.format(wapo['gender'].unique())\n",
    "print 'FBI gender categories: {}'.format(fbi['gender'].unique())\n",
    "\n",
    "print '{0:.0f}% of Wapo records are M/F'.format(100*len(wapo[np.in1d(wapo['gender'], ['M','F'])])/float(len(wapo)))\n",
    "print '{0:.0f}% of FBI records are M/F'.format(100*len(fbi[np.in1d(fbi['gender'], \n",
    "                                                                        ['Male','Female'])])/float(len(fbi)))"
   ]
  },
  {
   "cell_type": "code",
   "execution_count": 9,
   "metadata": {
    "collapsed": false
   },
   "outputs": [
    {
     "data": {
      "text/html": [
       "<div>\n",
       "<table border=\"1\" class=\"dataframe\">\n",
       "  <thead>\n",
       "    <tr style=\"text-align: right;\">\n",
       "      <th></th>\n",
       "      <th>index</th>\n",
       "      <th>name</th>\n",
       "      <th>date</th>\n",
       "      <th>age</th>\n",
       "      <th>gender</th>\n",
       "      <th>race</th>\n",
       "      <th>city</th>\n",
       "      <th>state</th>\n",
       "    </tr>\n",
       "  </thead>\n",
       "  <tbody>\n",
       "    <tr>\n",
       "      <th>40</th>\n",
       "      <td>2299</td>\n",
       "      <td>Name withheld by police</td>\n",
       "      <td>2015-01-16</td>\n",
       "      <td>0.0</td>\n",
       "      <td>Unknown</td>\n",
       "      <td>Other</td>\n",
       "      <td>Mabank</td>\n",
       "      <td>TX</td>\n",
       "    </tr>\n",
       "    <tr>\n",
       "      <th>940</th>\n",
       "      <td>1243</td>\n",
       "      <td>Tuan Hoang</td>\n",
       "      <td>2015-11-30</td>\n",
       "      <td>0.0</td>\n",
       "      <td>Unknown</td>\n",
       "      <td>Asian</td>\n",
       "      <td>Aurora</td>\n",
       "      <td>CO</td>\n",
       "    </tr>\n",
       "    <tr>\n",
       "      <th>1129</th>\n",
       "      <td>1030</td>\n",
       "      <td>Kayden Clarke transitioning from Danielle Jacobs</td>\n",
       "      <td>2016-02-04</td>\n",
       "      <td>24.0</td>\n",
       "      <td>Transgender</td>\n",
       "      <td>White</td>\n",
       "      <td>Mesa</td>\n",
       "      <td>AZ</td>\n",
       "    </tr>\n",
       "    <tr>\n",
       "      <th>1561</th>\n",
       "      <td>542</td>\n",
       "      <td>Name withheld by police</td>\n",
       "      <td>2016-07-04</td>\n",
       "      <td>29.0</td>\n",
       "      <td>NaN</td>\n",
       "      <td>Black</td>\n",
       "      <td>Rosser</td>\n",
       "      <td>TX</td>\n",
       "    </tr>\n",
       "  </tbody>\n",
       "</table>\n",
       "</div>"
      ],
      "text/plain": [
       "      index                                              name       date  \\\n",
       "40     2299                           Name withheld by police 2015-01-16   \n",
       "940    1243                                        Tuan Hoang 2015-11-30   \n",
       "1129   1030  Kayden Clarke transitioning from Danielle Jacobs 2016-02-04   \n",
       "1561    542                           Name withheld by police 2016-07-04   \n",
       "\n",
       "       age       gender   race    city state  \n",
       "40     0.0      Unknown  Other  Mabank    TX  \n",
       "940    0.0      Unknown  Asian  Aurora    CO  \n",
       "1129  24.0  Transgender  White    Mesa    AZ  \n",
       "1561  29.0          NaN  Black  Rosser    TX  "
      ]
     },
     "execution_count": 9,
     "metadata": {},
     "output_type": "execute_result"
    }
   ],
   "source": [
    "# hmm what's going on?\n",
    "fbi[~np.in1d(fbi['gender'], ['Male','Female'])]"
   ]
  },
  {
   "cell_type": "code",
   "execution_count": 10,
   "metadata": {
    "collapsed": false
   },
   "outputs": [
    {
     "data": {
      "text/html": [
       "<div>\n",
       "<table border=\"1\" class=\"dataframe\">\n",
       "  <thead>\n",
       "    <tr style=\"text-align: right;\">\n",
       "      <th></th>\n",
       "      <th>index</th>\n",
       "      <th>name</th>\n",
       "      <th>date</th>\n",
       "      <th>age</th>\n",
       "      <th>gender</th>\n",
       "      <th>race</th>\n",
       "      <th>city</th>\n",
       "      <th>state</th>\n",
       "    </tr>\n",
       "  </thead>\n",
       "  <tbody>\n",
       "    <tr>\n",
       "      <th>901</th>\n",
       "      <td>899</td>\n",
       "      <td>Tuan Hoang</td>\n",
       "      <td>2015-11-30</td>\n",
       "      <td>25.0</td>\n",
       "      <td>M</td>\n",
       "      <td>Asian</td>\n",
       "      <td>Aurora</td>\n",
       "      <td>CO</td>\n",
       "    </tr>\n",
       "    <tr>\n",
       "      <th>1080</th>\n",
       "      <td>1078</td>\n",
       "      <td>Kayden Clarke</td>\n",
       "      <td>2016-02-04</td>\n",
       "      <td>24.0</td>\n",
       "      <td>M</td>\n",
       "      <td>White</td>\n",
       "      <td>Mesa</td>\n",
       "      <td>AZ</td>\n",
       "    </tr>\n",
       "  </tbody>\n",
       "</table>\n",
       "</div>"
      ],
      "text/plain": [
       "      index           name       date   age gender   race    city state\n",
       "901     899     Tuan Hoang 2015-11-30  25.0      M  Asian  Aurora    CO\n",
       "1080   1078  Kayden Clarke 2016-02-04  24.0      M  White    Mesa    AZ"
      ]
     },
     "execution_count": 10,
     "metadata": {},
     "output_type": "execute_result"
    }
   ],
   "source": [
    "wapo[np.in1d(wapo['name'], ['Tuan Hoang','Kayden Clarke','Danielle Jacobs'])]"
   ]
  },
  {
   "cell_type": "code",
   "execution_count": 11,
   "metadata": {
    "collapsed": false
   },
   "outputs": [
    {
     "data": {
      "text/html": [
       "<div>\n",
       "<table border=\"1\" class=\"dataframe\">\n",
       "  <thead>\n",
       "    <tr style=\"text-align: right;\">\n",
       "      <th></th>\n",
       "      <th>index</th>\n",
       "      <th>name</th>\n",
       "      <th>date</th>\n",
       "      <th>age</th>\n",
       "      <th>gender</th>\n",
       "      <th>race</th>\n",
       "      <th>city</th>\n",
       "      <th>state</th>\n",
       "    </tr>\n",
       "  </thead>\n",
       "  <tbody>\n",
       "    <tr>\n",
       "      <th>37</th>\n",
       "      <td>37</td>\n",
       "      <td>Scott Hall</td>\n",
       "      <td>2015-01-16</td>\n",
       "      <td>41.0</td>\n",
       "      <td>M</td>\n",
       "      <td>White</td>\n",
       "      <td>Mabank</td>\n",
       "      <td>TX</td>\n",
       "    </tr>\n",
       "    <tr>\n",
       "      <th>1499</th>\n",
       "      <td>1500</td>\n",
       "      <td>TK TK</td>\n",
       "      <td>2016-07-04</td>\n",
       "      <td>NaN</td>\n",
       "      <td>M</td>\n",
       "      <td>Other</td>\n",
       "      <td>Rosser</td>\n",
       "      <td>TX</td>\n",
       "    </tr>\n",
       "  </tbody>\n",
       "</table>\n",
       "</div>"
      ],
      "text/plain": [
       "      index        name       date   age gender   race    city state\n",
       "37       37  Scott Hall 2015-01-16  41.0      M  White  Mabank    TX\n",
       "1499   1500       TK TK 2016-07-04   NaN      M  Other  Rosser    TX"
      ]
     },
     "execution_count": 11,
     "metadata": {},
     "output_type": "execute_result"
    }
   ],
   "source": [
    "wapo[np.in1d(wapo['city'], ['Mabank','Rosser'])]"
   ]
  },
  {
   "cell_type": "code",
   "execution_count": 12,
   "metadata": {
    "collapsed": false
   },
   "outputs": [
    {
     "name": "stderr",
     "output_type": "stream",
     "text": [
      "/Users/geoffperrin/anaconda2/lib/python2.7/site-packages/ipykernel/__main__.py:2: SettingWithCopyWarning: \n",
      "A value is trying to be set on a copy of a slice from a DataFrame\n",
      "\n",
      "See the caveats in the documentation: http://pandas.pydata.org/pandas-docs/stable/indexing.html#indexing-view-versus-copy\n",
      "  from ipykernel import kernelapp as app\n"
     ]
    }
   ],
   "source": [
    "# all non M/F FBI records are classified as M by wapo. For ease of matching in this analysis, I will take Wapo's answer\n",
    "fbi['gender'][~np.in1d(fbi['gender'],['Male','Female'])] = 'Male'\n",
    "\n",
    "# and let's make them match\n",
    "gender_dict = {'M':'Male',\n",
    "               'F':'Female'}\n",
    "wapo['gender'] = [gender_dict[i] for i in wapo['gender']]"
   ]
  },
  {
   "cell_type": "code",
   "execution_count": 13,
   "metadata": {
    "collapsed": false
   },
   "outputs": [
    {
     "name": "stderr",
     "output_type": "stream",
     "text": [
      "/Users/geoffperrin/anaconda2/lib/python2.7/site-packages/ipykernel/__main__.py:2: SettingWithCopyWarning: \n",
      "A value is trying to be set on a copy of a slice from a DataFrame\n",
      "\n",
      "See the caveats in the documentation: http://pandas.pydata.org/pandas-docs/stable/indexing.html#indexing-view-versus-copy\n",
      "  from ipykernel import kernelapp as app\n",
      "/Users/geoffperrin/anaconda2/lib/python2.7/site-packages/ipykernel/__main__.py:3: SettingWithCopyWarning: \n",
      "A value is trying to be set on a copy of a slice from a DataFrame\n",
      "\n",
      "See the caveats in the documentation: http://pandas.pydata.org/pandas-docs/stable/indexing.html#indexing-view-versus-copy\n",
      "  app.launch_new_instance()\n"
     ]
    }
   ],
   "source": [
    "# unknown name matching\n",
    "fbi['name'][fbi['name'] == 'Name withheld by police'] = 'TK TK'\n",
    "fbi['name'][fbi['name'] == 'Unknown name'] = 'TK TK'"
   ]
  },
  {
   "cell_type": "code",
   "execution_count": 14,
   "metadata": {
    "collapsed": false
   },
   "outputs": [
    {
     "data": {
      "text/html": [
       "<div>\n",
       "<table border=\"1\" class=\"dataframe\">\n",
       "  <thead>\n",
       "    <tr style=\"text-align: right;\">\n",
       "      <th></th>\n",
       "      <th>index</th>\n",
       "      <th>name</th>\n",
       "      <th>date</th>\n",
       "      <th>age</th>\n",
       "      <th>gender</th>\n",
       "      <th>race</th>\n",
       "      <th>city</th>\n",
       "      <th>state</th>\n",
       "    </tr>\n",
       "  </thead>\n",
       "  <tbody>\n",
       "    <tr>\n",
       "      <th>0</th>\n",
       "      <td>1</td>\n",
       "      <td>Lewis Lee Lembke</td>\n",
       "      <td>2015-01-02</td>\n",
       "      <td>47.0</td>\n",
       "      <td>Male</td>\n",
       "      <td>White</td>\n",
       "      <td>Aloha</td>\n",
       "      <td>OR</td>\n",
       "    </tr>\n",
       "    <tr>\n",
       "      <th>1</th>\n",
       "      <td>0</td>\n",
       "      <td>Tim Elliot</td>\n",
       "      <td>2015-01-02</td>\n",
       "      <td>53.0</td>\n",
       "      <td>Male</td>\n",
       "      <td>Asian</td>\n",
       "      <td>Shelton</td>\n",
       "      <td>WA</td>\n",
       "    </tr>\n",
       "    <tr>\n",
       "      <th>2</th>\n",
       "      <td>2</td>\n",
       "      <td>John Paul Quintero</td>\n",
       "      <td>2015-01-03</td>\n",
       "      <td>23.0</td>\n",
       "      <td>Male</td>\n",
       "      <td>Hispanic</td>\n",
       "      <td>Wichita</td>\n",
       "      <td>KS</td>\n",
       "    </tr>\n",
       "    <tr>\n",
       "      <th>3</th>\n",
       "      <td>5</td>\n",
       "      <td>Kenneth Joe Brown</td>\n",
       "      <td>2015-01-04</td>\n",
       "      <td>18.0</td>\n",
       "      <td>Male</td>\n",
       "      <td>White</td>\n",
       "      <td>Guthrie</td>\n",
       "      <td>OK</td>\n",
       "    </tr>\n",
       "    <tr>\n",
       "      <th>4</th>\n",
       "      <td>3</td>\n",
       "      <td>Matthew Hoffman</td>\n",
       "      <td>2015-01-04</td>\n",
       "      <td>32.0</td>\n",
       "      <td>Male</td>\n",
       "      <td>White</td>\n",
       "      <td>San Francisco</td>\n",
       "      <td>CA</td>\n",
       "    </tr>\n",
       "  </tbody>\n",
       "</table>\n",
       "</div>"
      ],
      "text/plain": [
       "   index                name       date   age gender      race           city  \\\n",
       "0      1    Lewis Lee Lembke 2015-01-02  47.0   Male     White          Aloha   \n",
       "1      0          Tim Elliot 2015-01-02  53.0   Male     Asian        Shelton   \n",
       "2      2  John Paul Quintero 2015-01-03  23.0   Male  Hispanic        Wichita   \n",
       "3      5   Kenneth Joe Brown 2015-01-04  18.0   Male     White        Guthrie   \n",
       "4      3     Matthew Hoffman 2015-01-04  32.0   Male     White  San Francisco   \n",
       "\n",
       "  state  \n",
       "0    OR  \n",
       "1    WA  \n",
       "2    KS  \n",
       "3    OK  \n",
       "4    CA  "
      ]
     },
     "execution_count": 14,
     "metadata": {},
     "output_type": "execute_result"
    }
   ],
   "source": [
    "# all columns should match now. \n",
    "wapo.head()"
   ]
  },
  {
   "cell_type": "code",
   "execution_count": 15,
   "metadata": {
    "collapsed": false
   },
   "outputs": [],
   "source": [
    "# string concat to create id variable\n",
    "wapo['id'] = wapo.apply(lambda x:'%s%s%s%s%s%s%s' % (x['name'],x['date'],x['age'],x['gender'],x['race'],x['city'],x['state']),axis=1)\n",
    "fbi['id'] = fbi.apply(lambda x:'%s%s%s%s%s%s%s' % (x['name'],x['date'],x['age'],x['gender'],x['race'],x['city'],x['state']),axis=1)"
   ]
  },
  {
   "cell_type": "code",
   "execution_count": 16,
   "metadata": {
    "collapsed": false
   },
   "outputs": [],
   "source": [
    "# how many perfect matches\n",
    "matched = [np.in1d(i, fbi['id']) for i in wapo['id']]"
   ]
  },
  {
   "cell_type": "code",
   "execution_count": 17,
   "metadata": {
    "collapsed": false
   },
   "outputs": [
    {
     "name": "stdout",
     "output_type": "stream",
     "text": [
      "We can match 45% based on perfect id\n"
     ]
    }
   ],
   "source": [
    "print 'We can match {0:.0f}% based on perfect id'.format(100*len(wapo[np.in1d(wapo['id'], fbi['id'])]) / float(len(wapo)))"
   ]
  },
  {
   "cell_type": "code",
   "execution_count": 18,
   "metadata": {
    "collapsed": false
   },
   "outputs": [],
   "source": [
    "# of course this is worse than name only. but let's try some fuzzy matching\n",
    "\n",
    "def best_match(x, y):\n",
    "    rats = [dl.SequenceMatcher(None, x, i).ratio() for i in y]\n",
    "    return([max(rats), y[rats.index(max(rats))]])"
   ]
  },
  {
   "cell_type": "code",
   "execution_count": null,
   "metadata": {
    "collapsed": false
   },
   "outputs": [],
   "source": [
    "# what does FBI report that WAPO missed?\n",
    "# slow... half an hour maybe?\n",
    "fbi[['score','wapo_id']] = fbi['id'].apply(lambda x: best_match(x, wapo['id'])).apply(pd.Series)"
   ]
  },
  {
   "cell_type": "code",
   "execution_count": null,
   "metadata": {
    "collapsed": true
   },
   "outputs": [],
   "source": [
    "# what does WAPO report that FBI missed?\n",
    "# also slow\n",
    "wapo[['score','fbi_id']] = wapo['id'].apply(lambda x: best_match(x, fbi['id'])).apply(pd.Series)"
   ]
  },
  {
   "cell_type": "code",
   "execution_count": null,
   "metadata": {
    "collapsed": false
   },
   "outputs": [],
   "source": [
    "# write\n",
    "fbi.to_csv('Data/fbi_score.csv')\n",
    "wapo.to_csv('Data/wapo_score.csv')\n"
   ]
  },
  {
   "cell_type": "code",
   "execution_count": null,
   "metadata": {
    "collapsed": true
   },
   "outputs": [],
   "source": []
  }
 ],
 "metadata": {
  "anaconda-cloud": {},
  "kernelspec": {
   "display_name": "Python [Root]",
   "language": "python",
   "name": "Python [Root]"
  },
  "language_info": {
   "codemirror_mode": {
    "name": "ipython",
    "version": 2
   },
   "file_extension": ".py",
   "mimetype": "text/x-python",
   "name": "python",
   "nbconvert_exporter": "python",
   "pygments_lexer": "ipython2",
   "version": "2.7.12"
  }
 },
 "nbformat": 4,
 "nbformat_minor": 0
}
