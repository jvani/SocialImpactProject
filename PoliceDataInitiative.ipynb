{
 "cells": [
  {
   "cell_type": "code",
   "execution_count": 1,
   "metadata": {
    "collapsed": false
   },
   "outputs": [],
   "source": [
    "import os\n",
    "import numpy as np\n",
    "import pandas as pd\n",
    "from scipy.stats import ttest_ind, ks_2samp"
   ]
  },
  {
   "cell_type": "code",
   "execution_count": 2,
   "metadata": {
    "collapsed": false
   },
   "outputs": [
    {
     "data": {
      "text/plain": [
       "['.DS_Store',\n",
       " 'MetroPopulation.csv',\n",
       " 'PoliceDataInitiativeParticipants.csv',\n",
       " 'PostKillingsData.csv']"
      ]
     },
     "execution_count": 2,
     "metadata": {},
     "output_type": "execute_result"
    }
   ],
   "source": [
    "os.listdir('Data/')"
   ]
  },
  {
   "cell_type": "code",
   "execution_count": 3,
   "metadata": {
    "collapsed": false
   },
   "outputs": [],
   "source": [
    "# Load all data in dataframes.\n",
    "metpop = pd.read_csv('Data/MetroPopulation.csv', thousands=',')\n",
    "pdi = pd.read_csv('Data/PoliceDataInitiativeParticipants.csv', encoding='latin-1',)\n",
    "killings = pd.read_csv('Data/PostKillingsData.csv')"
   ]
  },
  {
   "cell_type": "code",
   "execution_count": 4,
   "metadata": {
    "collapsed": false
   },
   "outputs": [],
   "source": [
    "# Group killings by city.\n",
    "kcount = killings.groupby('city')['id'].count().sort_values(ascending=False)\n",
    "\n",
    "# Create standardized city column for pdi & metropolitan population.\n",
    "pdi = pdi['PDI Participant'].apply(lambda x: pd.Series(x.split(',')))\n",
    "pdi.columns = ['City', 'Department']\n",
    "\n",
    "metpop['City'] = metpop['Metropolitan Statistical Area']\n",
    "metpop['City'] = metpop['Metropolitan Statistical Area'].apply(lambda x: pd.Series(x.split(',')))\n",
    "metpop['City'] = metpop['City'].apply(lambda x: x.split('-')[0])"
   ]
  },
  {
   "cell_type": "code",
   "execution_count": 6,
   "metadata": {
    "collapsed": false
   },
   "outputs": [],
   "source": [
    "# Merge all data.\n",
    "result = pd.merge(metpop, pdi, on='City', how='outer')\n",
    "result = result[np.isfinite(result['2010 Census'])]\n",
    "result.set_index('City', inplace=True)\n",
    "result['Killings'] = kcount\n",
    "\n",
    "# Calculate per capita killings.\n",
    "result['Killings'] = result['Killings'].fillna(0)\n",
    "result['KillingsPer100Thou'] = result['Killings'] / (result['2010 Census'] / 100000)"
   ]
  },
  {
   "cell_type": "code",
   "execution_count": 10,
   "metadata": {
    "collapsed": false
   },
   "outputs": [
    {
     "name": "stdout",
     "output_type": "stream",
     "text": [
      "Ttest_indResult(statistic=0.22085383681774184, pvalue=0.82584012993722977)\n",
      "Ttest_indResult(statistic=0.2268525040244441, pvalue=0.82082444258633847)\n",
      "Ks_2sampResult(statistic=0.10073260073260071, pvalue=0.9967009212255491)\n",
      "Ks_2sampResult(statistic=0.054376866258054379, pvalue=0.99975496585509427)\n"
     ]
    }
   ],
   "source": [
    "# Split data based on participation in pdi.\n",
    "nonpart = result[result.isnull().any(axis=1)]\n",
    "part = result[result.notnull().any(axis=1)]\n",
    "\n",
    "# Take large cities.\n",
    "nonpartM = nonpart[nonpart['2010 Census'] > 1000000]\n",
    "partM = part[part['2010 Census'] > 1000000]\n",
    "\n",
    "# Statistical Tests.\n",
    "print(ttest_ind(nonpartM['KillingsPer100Thou'], partM['KillingsPer100Thou']))\n",
    "print(ttest_ind(nonpart['KillingsPer100Thou'], part['KillingsPer100Thou']))\n",
    "print(ks_2samp(nonpartM['KillingsPer100Thou'], partM['KillingsPer100Thou']))\n",
    "print(ks_2samp(nonpart['KillingsPer100Thou'], part['KillingsPer100Thou']))"
   ]
  },
  {
   "cell_type": "code",
   "execution_count": null,
   "metadata": {
    "collapsed": true
   },
   "outputs": [],
   "source": []
  }
 ],
 "metadata": {
  "kernelspec": {
   "display_name": "Python 3",
   "language": "python",
   "name": "python3"
  },
  "language_info": {
   "codemirror_mode": {
    "name": "ipython",
    "version": 3
   },
   "file_extension": ".py",
   "mimetype": "text/x-python",
   "name": "python",
   "nbconvert_exporter": "python",
   "pygments_lexer": "ipython3",
   "version": "3.5.2"
  }
 },
 "nbformat": 4,
 "nbformat_minor": 1
}
