{
 "cells": [
  {
   "cell_type": "code",
   "execution_count": 64,
   "metadata": {
    "collapsed": false
   },
   "outputs": [],
   "source": [
    "import os\n",
    "import numpy as np\n",
    "import pandas as pd\n",
    "import seaborn as sns\n",
    "import matplotlib.pylab as pl\n",
    "import statsmodels.formula.api as sm\n",
    "from collections import Counter\n",
    "from scipy.stats import ttest_ind, ks_2samp\n",
    "from sklearn.linear_model import LogisticRegression\n",
    "from sklearn.ensemble import RandomForestClassifier as RFC\n",
    "from sklearn.model_selection import GridSearchCV\n",
    "from sklearn.metrics import roc_auc_score as rs\n",
    "from sklearn.model_selection import train_test_split\n",
    "%matplotlib inline"
   ]
  },
  {
   "cell_type": "code",
   "execution_count": 3,
   "metadata": {
    "collapsed": false
   },
   "outputs": [
    {
     "data": {
      "text/plain": [
       "['MetroPopulation.csv',\n",
       " 'MPVDatasetDownload.csv',\n",
       " 'PoliceDataInitiativeParticipants.csv',\n",
       " 'PostKillingsData.csv',\n",
       " 'USguncrime.csv']"
      ]
     },
     "execution_count": 3,
     "metadata": {},
     "output_type": "execute_result"
    }
   ],
   "source": [
    "os.listdir('Data/')"
   ]
  },
  {
   "cell_type": "code",
   "execution_count": 4,
   "metadata": {
    "collapsed": false
   },
   "outputs": [],
   "source": [
    "# Load all data in dataframes.\n",
    "metpop = pd.read_csv('Data/MetroPopulation.csv', thousands=',')\n",
    "pdi = pd.read_csv('Data/PoliceDataInitiativeParticipants.csv', encoding='latin-1',)\n",
    "killings = pd.read_csv('Data/PostKillingsData.csv')\n",
    "guncrime = pd.read_csv('Data/USGunCrime.csv', header=3, ).drop('State', axis=1).rename(\n",
    "    columns={'State code': 'State',\n",
    "             'Firearms murders per 100,000 population': 'F_Murder100k'})[['State', 'F_Murder100k']]\n",
    "officershootings = ['Fairfax', 'Los Angeles', 'Orlando', 'Atlanta',\n",
    "                    'Bloomington', 'Louisville', 'Hartford', 'Austin',\n",
    "                    'Henderson', 'Dallas', 'San Francisco', 'Indianapolis',\n",
    "                    'Tuscon', 'Knoxville', 'Redondo Beach', 'Cincinnati',\n",
    "                    'Philadelphia', 'Hampton']"
   ]
  },
  {
   "cell_type": "code",
   "execution_count": 5,
   "metadata": {
    "collapsed": false
   },
   "outputs": [
    {
     "data": {
      "text/html": [
       "<div>\n",
       "<table border=\"1\" class=\"dataframe\">\n",
       "  <thead>\n",
       "    <tr style=\"text-align: right;\">\n",
       "      <th></th>\n",
       "      <th>Rank</th>\n",
       "      <th>Metropolitan Statistical Area</th>\n",
       "      <th>2010 Census</th>\n",
       "      <th>2000 Census</th>\n",
       "      <th>Growth (%)</th>\n",
       "    </tr>\n",
       "  </thead>\n",
       "  <tbody>\n",
       "    <tr>\n",
       "      <th>0</th>\n",
       "      <td>1</td>\n",
       "      <td>New York-Northern New Jersey-Long Island, NY-N...</td>\n",
       "      <td>19006798</td>\n",
       "      <td>18323002</td>\n",
       "      <td>3.7</td>\n",
       "    </tr>\n",
       "    <tr>\n",
       "      <th>1</th>\n",
       "      <td>2</td>\n",
       "      <td>Los Angeles-Long Beach-Santa Ana, CA</td>\n",
       "      <td>12872808</td>\n",
       "      <td>12365627</td>\n",
       "      <td>4.1</td>\n",
       "    </tr>\n",
       "    <tr>\n",
       "      <th>2</th>\n",
       "      <td>3</td>\n",
       "      <td>Chicago-Joliet-Naperville, IL-IN-WI</td>\n",
       "      <td>9569624</td>\n",
       "      <td>9098316</td>\n",
       "      <td>5.2</td>\n",
       "    </tr>\n",
       "    <tr>\n",
       "      <th>3</th>\n",
       "      <td>4</td>\n",
       "      <td>Dallas-Fort Worth-Arlington, TX</td>\n",
       "      <td>6300006</td>\n",
       "      <td>5161544</td>\n",
       "      <td>22.1</td>\n",
       "    </tr>\n",
       "    <tr>\n",
       "      <th>4</th>\n",
       "      <td>5</td>\n",
       "      <td>Philadelphia-Camden-Wilmington, PA-NJ-DE-MD</td>\n",
       "      <td>5838471</td>\n",
       "      <td>5687147</td>\n",
       "      <td>2.7</td>\n",
       "    </tr>\n",
       "  </tbody>\n",
       "</table>\n",
       "</div>"
      ],
      "text/plain": [
       "   Rank                      Metropolitan Statistical Area  2010 Census  \\\n",
       "0     1  New York-Northern New Jersey-Long Island, NY-N...     19006798   \n",
       "1     2               Los Angeles-Long Beach-Santa Ana, CA     12872808   \n",
       "2     3                Chicago-Joliet-Naperville, IL-IN-WI      9569624   \n",
       "3     4                    Dallas-Fort Worth-Arlington, TX      6300006   \n",
       "4     5        Philadelphia-Camden-Wilmington, PA-NJ-DE-MD      5838471   \n",
       "\n",
       "   2000 Census  Growth (%)  \n",
       "0     18323002         3.7  \n",
       "1     12365627         4.1  \n",
       "2      9098316         5.2  \n",
       "3      5161544        22.1  \n",
       "4      5687147         2.7  "
      ]
     },
     "execution_count": 5,
     "metadata": {},
     "output_type": "execute_result"
    }
   ],
   "source": [
    "metpop.head()"
   ]
  },
  {
   "cell_type": "code",
   "execution_count": 6,
   "metadata": {
    "collapsed": false
   },
   "outputs": [
    {
     "data": {
      "text/html": [
       "<div>\n",
       "<table border=\"1\" class=\"dataframe\">\n",
       "  <thead>\n",
       "    <tr style=\"text-align: right;\">\n",
       "      <th></th>\n",
       "      <th>PDI Participant</th>\n",
       "    </tr>\n",
       "  </thead>\n",
       "  <tbody>\n",
       "    <tr>\n",
       "      <th>0</th>\n",
       "      <td>Albuquerque, NM Police</td>\n",
       "    </tr>\n",
       "    <tr>\n",
       "      <th>1</th>\n",
       "      <td>Anchorage, AK Police</td>\n",
       "    </tr>\n",
       "    <tr>\n",
       "      <th>2</th>\n",
       "      <td>Atlanta, GA Police</td>\n",
       "    </tr>\n",
       "    <tr>\n",
       "      <th>3</th>\n",
       "      <td>Auburn, WA Police</td>\n",
       "    </tr>\n",
       "    <tr>\n",
       "      <th>4</th>\n",
       "      <td>Austin, TX Police</td>\n",
       "    </tr>\n",
       "  </tbody>\n",
       "</table>\n",
       "</div>"
      ],
      "text/plain": [
       "          PDI Participant\n",
       "0  Albuquerque, NM Police\n",
       "1    Anchorage, AK Police\n",
       "2      Atlanta, GA Police\n",
       "3       Auburn, WA Police\n",
       "4       Austin, TX Police"
      ]
     },
     "execution_count": 6,
     "metadata": {},
     "output_type": "execute_result"
    }
   ],
   "source": [
    "pdi.head()"
   ]
  },
  {
   "cell_type": "code",
   "execution_count": 7,
   "metadata": {
    "collapsed": false
   },
   "outputs": [
    {
     "data": {
      "text/html": [
       "<div>\n",
       "<table border=\"1\" class=\"dataframe\">\n",
       "  <thead>\n",
       "    <tr style=\"text-align: right;\">\n",
       "      <th></th>\n",
       "      <th>id</th>\n",
       "      <th>name</th>\n",
       "      <th>date</th>\n",
       "      <th>manner_of_death</th>\n",
       "      <th>armed</th>\n",
       "      <th>age</th>\n",
       "      <th>gender</th>\n",
       "      <th>race</th>\n",
       "      <th>city</th>\n",
       "      <th>state</th>\n",
       "      <th>signs_of_mental_illness</th>\n",
       "      <th>threat_level</th>\n",
       "      <th>flee</th>\n",
       "      <th>body_camera</th>\n",
       "    </tr>\n",
       "  </thead>\n",
       "  <tbody>\n",
       "    <tr>\n",
       "      <th>0</th>\n",
       "      <td>3</td>\n",
       "      <td>Tim Elliot</td>\n",
       "      <td>2015-01-02</td>\n",
       "      <td>shot</td>\n",
       "      <td>gun</td>\n",
       "      <td>53.0</td>\n",
       "      <td>M</td>\n",
       "      <td>A</td>\n",
       "      <td>Shelton</td>\n",
       "      <td>WA</td>\n",
       "      <td>True</td>\n",
       "      <td>attack</td>\n",
       "      <td>Not fleeing</td>\n",
       "      <td>False</td>\n",
       "    </tr>\n",
       "    <tr>\n",
       "      <th>1</th>\n",
       "      <td>4</td>\n",
       "      <td>Lewis Lee Lembke</td>\n",
       "      <td>2015-01-02</td>\n",
       "      <td>shot</td>\n",
       "      <td>gun</td>\n",
       "      <td>47.0</td>\n",
       "      <td>M</td>\n",
       "      <td>W</td>\n",
       "      <td>Aloha</td>\n",
       "      <td>OR</td>\n",
       "      <td>False</td>\n",
       "      <td>attack</td>\n",
       "      <td>Not fleeing</td>\n",
       "      <td>False</td>\n",
       "    </tr>\n",
       "    <tr>\n",
       "      <th>2</th>\n",
       "      <td>5</td>\n",
       "      <td>John Paul Quintero</td>\n",
       "      <td>2015-01-03</td>\n",
       "      <td>shot and Tasered</td>\n",
       "      <td>unarmed</td>\n",
       "      <td>23.0</td>\n",
       "      <td>M</td>\n",
       "      <td>H</td>\n",
       "      <td>Wichita</td>\n",
       "      <td>KS</td>\n",
       "      <td>False</td>\n",
       "      <td>other</td>\n",
       "      <td>Not fleeing</td>\n",
       "      <td>False</td>\n",
       "    </tr>\n",
       "    <tr>\n",
       "      <th>3</th>\n",
       "      <td>8</td>\n",
       "      <td>Matthew Hoffman</td>\n",
       "      <td>2015-01-04</td>\n",
       "      <td>shot</td>\n",
       "      <td>toy weapon</td>\n",
       "      <td>32.0</td>\n",
       "      <td>M</td>\n",
       "      <td>W</td>\n",
       "      <td>San Francisco</td>\n",
       "      <td>CA</td>\n",
       "      <td>True</td>\n",
       "      <td>attack</td>\n",
       "      <td>Not fleeing</td>\n",
       "      <td>False</td>\n",
       "    </tr>\n",
       "    <tr>\n",
       "      <th>4</th>\n",
       "      <td>9</td>\n",
       "      <td>Michael Rodriguez</td>\n",
       "      <td>2015-01-04</td>\n",
       "      <td>shot</td>\n",
       "      <td>nail gun</td>\n",
       "      <td>39.0</td>\n",
       "      <td>M</td>\n",
       "      <td>H</td>\n",
       "      <td>Evans</td>\n",
       "      <td>CO</td>\n",
       "      <td>False</td>\n",
       "      <td>attack</td>\n",
       "      <td>Not fleeing</td>\n",
       "      <td>False</td>\n",
       "    </tr>\n",
       "  </tbody>\n",
       "</table>\n",
       "</div>"
      ],
      "text/plain": [
       "   id                name        date   manner_of_death       armed   age  \\\n",
       "0   3          Tim Elliot  2015-01-02              shot         gun  53.0   \n",
       "1   4    Lewis Lee Lembke  2015-01-02              shot         gun  47.0   \n",
       "2   5  John Paul Quintero  2015-01-03  shot and Tasered     unarmed  23.0   \n",
       "3   8     Matthew Hoffman  2015-01-04              shot  toy weapon  32.0   \n",
       "4   9   Michael Rodriguez  2015-01-04              shot    nail gun  39.0   \n",
       "\n",
       "  gender race           city state signs_of_mental_illness threat_level  \\\n",
       "0      M    A        Shelton    WA                    True       attack   \n",
       "1      M    W          Aloha    OR                   False       attack   \n",
       "2      M    H        Wichita    KS                   False        other   \n",
       "3      M    W  San Francisco    CA                    True       attack   \n",
       "4      M    H          Evans    CO                   False       attack   \n",
       "\n",
       "          flee body_camera  \n",
       "0  Not fleeing       False  \n",
       "1  Not fleeing       False  \n",
       "2  Not fleeing       False  \n",
       "3  Not fleeing       False  \n",
       "4  Not fleeing       False  "
      ]
     },
     "execution_count": 7,
     "metadata": {},
     "output_type": "execute_result"
    }
   ],
   "source": [
    "killings.head()"
   ]
  },
  {
   "cell_type": "code",
   "execution_count": 8,
   "metadata": {
    "collapsed": false
   },
   "outputs": [
    {
     "data": {
      "text/html": [
       "<div>\n",
       "<table border=\"1\" class=\"dataframe\">\n",
       "  <thead>\n",
       "    <tr style=\"text-align: right;\">\n",
       "      <th></th>\n",
       "      <th>State</th>\n",
       "      <th>F_Murder100k</th>\n",
       "    </tr>\n",
       "  </thead>\n",
       "  <tbody>\n",
       "    <tr>\n",
       "      <th>0</th>\n",
       "      <td>United States</td>\n",
       "      <td>2.75</td>\n",
       "    </tr>\n",
       "    <tr>\n",
       "      <th>1</th>\n",
       "      <td>AK</td>\n",
       "      <td>2.24</td>\n",
       "    </tr>\n",
       "    <tr>\n",
       "      <th>2</th>\n",
       "      <td>AZ</td>\n",
       "      <td>3.53</td>\n",
       "    </tr>\n",
       "    <tr>\n",
       "      <th>3</th>\n",
       "      <td>AR</td>\n",
       "      <td>4.39</td>\n",
       "    </tr>\n",
       "    <tr>\n",
       "      <th>4</th>\n",
       "      <td>CA</td>\n",
       "      <td>3.25</td>\n",
       "    </tr>\n",
       "  </tbody>\n",
       "</table>\n",
       "</div>"
      ],
      "text/plain": [
       "           State  F_Murder100k\n",
       "0  United States          2.75\n",
       "1             AK          2.24\n",
       "2             AZ          3.53\n",
       "3             AR          4.39\n",
       "4             CA          3.25"
      ]
     },
     "execution_count": 8,
     "metadata": {},
     "output_type": "execute_result"
    }
   ],
   "source": [
    "guncrime.head()"
   ]
  },
  {
   "cell_type": "code",
   "execution_count": 9,
   "metadata": {
    "collapsed": false
   },
   "outputs": [],
   "source": [
    "# Group killings by city.\n",
    "kcount = killings.groupby('city')['id'].count().sort_values(ascending=False)\n",
    "\n",
    "# Create standardized city column for pdi & metropolitan population.\n",
    "pdi = pdi['PDI Participant'].apply(lambda x: pd.Series(x.split(',')))\n",
    "pdi.columns = ['City', 'is_PDI']\n",
    "pdi['is_PDI'] = 1\n",
    "\n",
    "metpop['City'] = metpop['Metropolitan Statistical Area']\n",
    "metpop['City'] = metpop['Metropolitan Statistical Area'].apply(lambda x: pd.Series(x.split(',')))\n",
    "metpop['City'] = metpop['City'].apply(lambda x: x.split('-')[0])\n",
    "\n",
    "metpop['State'] = metpop['Metropolitan Statistical Area']\n",
    "metpop['State'] = metpop['State'].apply(lambda x: x.split(',')[-1])\n",
    "metpop['State'] = metpop['State'].apply(lambda x: x.split('-')[0].strip())"
   ]
  },
  {
   "cell_type": "code",
   "execution_count": 10,
   "metadata": {
    "collapsed": false
   },
   "outputs": [],
   "source": [
    "# Merge all data.\n",
    "result = pd.merge(metpop, pdi, on='City', how='outer')\n",
    "result = pd.merge(result, guncrime, on='State', how='outer')\n",
    "result[['is_PDI']] = result[['is_PDI']].fillna(value=0)\n",
    "result = result[np.isfinite(result['2010 Census'])]\n",
    "result.set_index('City', inplace=True)\n",
    "result['Killings'] = kcount\n",
    "\n",
    "# Calculate per capita killings.\n",
    "result['Killings'] = result['Killings'].fillna(0)\n",
    "result['KillingsPer100Thou'] = result['Killings'] / (result['2010 Census'] / 100000)"
   ]
  },
  {
   "cell_type": "code",
   "execution_count": 11,
   "metadata": {
    "collapsed": false
   },
   "outputs": [
    {
     "data": {
      "text/html": [
       "<div>\n",
       "<table border=\"1\" class=\"dataframe\">\n",
       "  <thead>\n",
       "    <tr style=\"text-align: right;\">\n",
       "      <th></th>\n",
       "      <th>Rank</th>\n",
       "      <th>Metropolitan Statistical Area</th>\n",
       "      <th>2010 Census</th>\n",
       "      <th>2000 Census</th>\n",
       "      <th>Growth (%)</th>\n",
       "      <th>State</th>\n",
       "      <th>is_PDI</th>\n",
       "      <th>F_Murder100k</th>\n",
       "      <th>Killings</th>\n",
       "      <th>KillingsPer100Thou</th>\n",
       "    </tr>\n",
       "    <tr>\n",
       "      <th>City</th>\n",
       "      <th></th>\n",
       "      <th></th>\n",
       "      <th></th>\n",
       "      <th></th>\n",
       "      <th></th>\n",
       "      <th></th>\n",
       "      <th></th>\n",
       "      <th></th>\n",
       "      <th></th>\n",
       "      <th></th>\n",
       "    </tr>\n",
       "  </thead>\n",
       "  <tbody>\n",
       "    <tr>\n",
       "      <th>New York</th>\n",
       "      <td>1.0</td>\n",
       "      <td>New York-Northern New Jersey-Long Island, NY-N...</td>\n",
       "      <td>19006798.0</td>\n",
       "      <td>18323002.0</td>\n",
       "      <td>3.7</td>\n",
       "      <td>NY</td>\n",
       "      <td>1.0</td>\n",
       "      <td>4.12</td>\n",
       "      <td>9.0</td>\n",
       "      <td>0.047351</td>\n",
       "    </tr>\n",
       "    <tr>\n",
       "      <th>Buffalo</th>\n",
       "      <td>47.0</td>\n",
       "      <td>Buffalo-Niagara Falls, NY</td>\n",
       "      <td>1124309.0</td>\n",
       "      <td>1170111.0</td>\n",
       "      <td>-3.9</td>\n",
       "      <td>NY</td>\n",
       "      <td>0.0</td>\n",
       "      <td>4.12</td>\n",
       "      <td>1.0</td>\n",
       "      <td>0.088944</td>\n",
       "    </tr>\n",
       "  </tbody>\n",
       "</table>\n",
       "</div>"
      ],
      "text/plain": [
       "          Rank                      Metropolitan Statistical Area  \\\n",
       "City                                                                \n",
       "New York   1.0  New York-Northern New Jersey-Long Island, NY-N...   \n",
       "Buffalo   47.0                          Buffalo-Niagara Falls, NY   \n",
       "\n",
       "          2010 Census  2000 Census  Growth (%) State  is_PDI  F_Murder100k  \\\n",
       "City                                                                         \n",
       "New York   19006798.0   18323002.0         3.7    NY     1.0          4.12   \n",
       "Buffalo     1124309.0    1170111.0        -3.9    NY     0.0          4.12   \n",
       "\n",
       "          Killings  KillingsPer100Thou  \n",
       "City                                    \n",
       "New York       9.0            0.047351  \n",
       "Buffalo        1.0            0.088944  "
      ]
     },
     "execution_count": 11,
     "metadata": {},
     "output_type": "execute_result"
    }
   ],
   "source": [
    "result.head(2)"
   ]
  },
  {
   "cell_type": "code",
   "execution_count": 12,
   "metadata": {
    "collapsed": false
   },
   "outputs": [
    {
     "name": "stdout",
     "output_type": "stream",
     "text": [
      "All data (Killings per 100 Thousand Residents):\n",
      "Participants: Mean 0.37\n",
      "Non-participants: Mean 0.41\n",
      "Ttest_indResult(statistic=0.46362426540822738, pvalue=0.64393468964140888)\n",
      "Ks_2sampResult(statistic=0.14327485380116955, pvalue=0.68114360514392802)\n",
      "\n",
      "Metro Areas with Pop > 1M (Killings per 100 Thousand Residents):\n",
      "Participants: Mean 0.32\n",
      "Non-participants: Mean 0.35\n",
      "Ttest_indResult(statistic=0.28626014178631337, pvalue=0.77586165100286864)\n",
      "Ks_2sampResult(statistic=0.15360983102918579, pvalue=0.90505269031562963)\n",
      "\n",
      "Specifically Report Officer Involved Shootings (Killings per 100 Thousand Residents):\n",
      "Participants: Mean 0.32\n",
      "Non-participants: Mean 0.4\n",
      "Ttest_indResult(statistic=0.71559322896453059, pvalue=0.47592692884052989)\n",
      "Ks_2sampResult(statistic=0.23636363636363633, pvalue=0.58250949105234839)\n",
      "\n",
      "Specifically Report Officer Involved Shootings, Metro Areas with Pop > 1M (Killings per 100 Thousand Residents):\n",
      "Participants: Mean 0.31\n",
      "Non-participants: Mean 0.34\n",
      "Ttest_indResult(statistic=0.21501999837887678, pvalue=0.83062636359191566)\n",
      "Ks_2sampResult(statistic=0.29523809523809519, pvalue=0.41246143776446209)\n"
     ]
    }
   ],
   "source": [
    "# Split data based on participation in pdi.\n",
    "nonpart = result[result['is_PDI'] == 0]\n",
    "part = result[result['is_PDI'] == 1]\n",
    "\n",
    "# Take large cities.\n",
    "nonpartM = nonpart[nonpart['2010 Census'] > 1000000]\n",
    "partM = part[part['2010 Census'] > 1000000]\n",
    "\n",
    "# Officer shooting participation.\n",
    "ospart = result[result.index.isin(officershootings)]\n",
    "osnonpart = result[~result.index.isin(officershootings)]\n",
    "\n",
    "# Officer shooting participation for only large cities.\n",
    "osnonpartM = osnonpart[osnonpart['2010 Census'] > 1000000]\n",
    "ospartM = ospart[ospart['2010 Census'] > 1000000]\n",
    "\n",
    "# Officer shooting participation for only small cities.\n",
    "osnonpartNM = osnonpart[osnonpart['2010 Census'] < 1000000]\n",
    "ospartNM = ospart[ospart['2010 Census'] < 1000000]\n",
    "\n",
    "# Statistical Tests.\n",
    "# All data\n",
    "print('All data (Killings per 100 Thousand Residents):')\n",
    "print('Participants: Mean {}'.format(round(part['KillingsPer100Thou'].mean(), 2)))\n",
    "print('Non-participants: Mean {}'.format(round(nonpart['KillingsPer100Thou'].mean(), 2)))\n",
    "print(ttest_ind(nonpart['KillingsPer100Thou'], part['KillingsPer100Thou']))\n",
    "print(ks_2samp(nonpart['KillingsPer100Thou'], part['KillingsPer100Thou']))\n",
    "\n",
    "# Metro areas > 1M\n",
    "print('\\nMetro Areas with Pop > 1M (Killings per 100 Thousand Residents):')\n",
    "print('Participants: Mean {}'.format(round(partM['KillingsPer100Thou'].mean(), 2)))\n",
    "print('Non-participants: Mean {}'.format(round(nonpartM['KillingsPer100Thou'].mean(), 2)))\n",
    "print(ttest_ind(nonpartM['KillingsPer100Thou'], partM['KillingsPer100Thou']))\n",
    "print(ks_2samp(nonpartM['KillingsPer100Thou'], partM['KillingsPer100Thou']))\n",
    "\n",
    "# Report officer involved shootings.\n",
    "print('\\nSpecifically Report Officer Involved Shootings (Killings per 100 Thousand Residents):')\n",
    "print('Participants: Mean {}'.format(round(ospart['KillingsPer100Thou'].mean(), 2)))\n",
    "print('Non-participants: Mean {}'.format(round(osnonpart['KillingsPer100Thou'].mean(), 2)))\n",
    "print(ttest_ind(osnonpart['KillingsPer100Thou'], ospart['KillingsPer100Thou']))\n",
    "print(ks_2samp(osnonpart['KillingsPer100Thou'], ospart['KillingsPer100Thou']))\n",
    "\n",
    "# Report officer involved shootings metro areas > 1M\n",
    "print('\\nSpecifically Report Officer Involved Shootings, Metro Areas with Pop > 1M (Killings per 100 Thousand Residents):')\n",
    "print('Participants: Mean {}'.format(round(ospartM['KillingsPer100Thou'].mean(), 2)))\n",
    "print('Non-participants: Mean {}'.format(round(osnonpartM['KillingsPer100Thou'].mean(), 2)))\n",
    "print(ttest_ind(osnonpartM['KillingsPer100Thou'], ospartM['KillingsPer100Thou']))\n",
    "print(ks_2samp(osnonpartM['KillingsPer100Thou'], ospartM['KillingsPer100Thou']))"
   ]
  },
  {
   "cell_type": "code",
   "execution_count": 13,
   "metadata": {
    "collapsed": false
   },
   "outputs": [
    {
     "data": {
      "image/png": "[encoded data removed]",
      "text/plain": [
       "<matplotlib.figure.Figure at 0x11a426cd0>"
      ]
     },
     "metadata": {},
     "output_type": "display_data"
    }
   ],
   "source": [
    "scatterm = pd.scatter_matrix(result, figsize=(18, 18))"
   ]
  },
  {
   "cell_type": "code",
   "execution_count": 14,
   "metadata": {
    "collapsed": false
   },
   "outputs": [
    {
     "data": {
      "text/plain": [
       "City\n",
       "New York                       0.047351\n",
       "Buffalo                        0.088944\n",
       "Rochester                      0.096703\n",
       "Albany                         0.117107\n",
       "Poughkeepsie                   0.000000\n",
       "Syracuse                       0.465988\n",
       "Los Angeles                    0.240818\n",
       "San Francisco                  0.210549\n",
       "Riverside                      0.000000\n",
       "San Diego                      0.266571\n",
       "Sacramento                     0.236986\n",
       "San Jose                       0.439754\n",
       "Fresno                         0.989932\n",
       "Bakersfield                    1.374213\n",
       "Oxnard                         0.125354\n",
       "Stockton                       1.041066\n",
       "Modesto                        0.979060\n",
       "Chicago                        0.240344\n",
       "Dallas                         0.158730\n",
       "Houston                        0.401526\n",
       "San Antonio                    0.787617\n",
       "Austin                         0.968170\n",
       "El Paso                        0.943317\n",
       "McAllen                        0.000000\n",
       "Philadelphia                   0.119894\n",
       "Pittsburgh                     0.085063\n",
       "Allentown                      0.123730\n",
       "Scranton                       0.000000\n",
       "Harrisburg                     0.188286\n",
       "Lancaster                      0.972640\n",
       "                                 ...   \n",
       "Nashville                      0.257943\n",
       "Memphis                        0.388884\n",
       "Knoxville                      0.434058\n",
       "Chattanooga                    0.578658\n",
       "Milwaukee                      0.258180\n",
       "Madison                        0.356186\n",
       "Louisville/Jefferson County    0.000000\n",
       "Oklahoma City                  0.911999\n",
       "Tulsa                          0.982448\n",
       "Hartford                       0.000000\n",
       "Bridgeport                     0.000000\n",
       "New Haven                      0.000000\n",
       "New Orleans                    0.617268\n",
       "Baton Rouge                    0.904011\n",
       "Birmingham                     0.268430\n",
       "Salt Lake City                 0.268891\n",
       "Provo                          0.184904\n",
       "Ogden                          0.376302\n",
       "Honolulu                       0.220986\n",
       "Albuquerque                    1.418586\n",
       "Omaha                          0.954739\n",
       "Columbia                       0.686754\n",
       "Columbia                       0.686754\n",
       "Charleston                     0.155158\n",
       "Greenville                     0.640292\n",
       "Little Rock                    0.296266\n",
       "Wichita                        0.496922\n",
       "Boise City                     0.000000\n",
       "Des Moines                     0.539345\n",
       "Jackson                        0.744484\n",
       "Name: KillingsPer100Thou, dtype: float64"
      ]
     },
     "execution_count": 14,
     "metadata": {},
     "output_type": "execute_result"
    },
    {
     "data": {
      "image/png": "[encoded data removed]",
      "text/plain": [
       "<matplotlib.figure.Figure at 0x120fd1610>"
      ]
     },
     "metadata": {},
     "output_type": "display_data"
    }
   ],
   "source": [
    "pl.scatter(result.F_Murder100k, result.KillingsPer100Thou)\n",
    "result.KillingsPer100Thou"
   ]
  },
  {
   "cell_type": "code",
   "execution_count": 15,
   "metadata": {
    "collapsed": false
   },
   "outputs": [
    {
     "data": {
      "text/html": [
       "<table class=\"simpletable\">\n",
       "<caption>OLS Regression Results</caption>\n",
       "<tr>\n",
       "  <th>Dep. Variable:</th>    <td>KillingsPer100Thou</td> <th>  R-squared:         </th> <td>   0.014</td>\n",
       "</tr>\n",
       "<tr>\n",
       "  <th>Model:</th>                    <td>OLS</td>        <th>  Adj. R-squared:    </th> <td>   0.003</td>\n",
       "</tr>\n",
       "<tr>\n",
       "  <th>Method:</th>              <td>Least Squares</td>   <th>  F-statistic:       </th> <td>   1.308</td>\n",
       "</tr>\n",
       "<tr>\n",
       "  <th>Date:</th>              <td>Tue, 28 Feb 2017</td>  <th>  Prob (F-statistic):</th>  <td> 0.256</td> \n",
       "</tr>\n",
       "<tr>\n",
       "  <th>Time:</th>                  <td>17:40:42</td>      <th>  Log-Likelihood:    </th> <td> -35.175</td>\n",
       "</tr>\n",
       "<tr>\n",
       "  <th>No. Observations:</th>       <td>    92</td>       <th>  AIC:               </th> <td>   74.35</td>\n",
       "</tr>\n",
       "<tr>\n",
       "  <th>Df Residuals:</th>           <td>    90</td>       <th>  BIC:               </th> <td>   79.39</td>\n",
       "</tr>\n",
       "<tr>\n",
       "  <th>Df Model:</th>               <td>     1</td>       <th>                     </th>     <td> </td>   \n",
       "</tr>\n",
       "<tr>\n",
       "  <th>Covariance Type:</th>       <td>nonrobust</td>     <th>                     </th>     <td> </td>   \n",
       "</tr>\n",
       "</table>\n",
       "<table class=\"simpletable\">\n",
       "<tr>\n",
       "        <td></td>          <th>coef</th>     <th>std err</th>      <th>t</th>      <th>P>|t|</th> <th>[95.0% Conf. Int.]</th> \n",
       "</tr>\n",
       "<tr>\n",
       "  <th>Intercept</th>    <td>    0.3191</td> <td>    0.079</td> <td>    4.022</td> <td> 0.000</td> <td>    0.161     0.477</td>\n",
       "</tr>\n",
       "<tr>\n",
       "  <th>F_Murder100k</th> <td>    0.0230</td> <td>    0.020</td> <td>    1.144</td> <td> 0.256</td> <td>   -0.017     0.063</td>\n",
       "</tr>\n",
       "</table>\n",
       "<table class=\"simpletable\">\n",
       "<tr>\n",
       "  <th>Omnibus:</th>       <td>12.018</td> <th>  Durbin-Watson:     </th> <td>   1.586</td>\n",
       "</tr>\n",
       "<tr>\n",
       "  <th>Prob(Omnibus):</th> <td> 0.002</td> <th>  Jarque-Bera (JB):  </th> <td>  13.436</td>\n",
       "</tr>\n",
       "<tr>\n",
       "  <th>Skew:</th>          <td> 0.936</td> <th>  Prob(JB):          </th> <td> 0.00121</td>\n",
       "</tr>\n",
       "<tr>\n",
       "  <th>Kurtosis:</th>      <td> 3.058</td> <th>  Cond. No.          </th> <td>    8.80</td>\n",
       "</tr>\n",
       "</table>"
      ],
      "text/plain": [
       "<class 'statsmodels.iolib.summary.Summary'>\n",
       "\"\"\"\n",
       "                            OLS Regression Results                            \n",
       "==============================================================================\n",
       "Dep. Variable:     KillingsPer100Thou   R-squared:                       0.014\n",
       "Model:                            OLS   Adj. R-squared:                  0.003\n",
       "Method:                 Least Squares   F-statistic:                     1.308\n",
       "Date:                Tue, 28 Feb 2017   Prob (F-statistic):              0.256\n",
       "Time:                        17:40:42   Log-Likelihood:                -35.175\n",
       "No. Observations:                  92   AIC:                             74.35\n",
       "Df Residuals:                      90   BIC:                             79.39\n",
       "Df Model:                           1                                         \n",
       "Covariance Type:            nonrobust                                         \n",
       "================================================================================\n",
       "                   coef    std err          t      P>|t|      [95.0% Conf. Int.]\n",
       "--------------------------------------------------------------------------------\n",
       "Intercept        0.3191      0.079      4.022      0.000         0.161     0.477\n",
       "F_Murder100k     0.0230      0.020      1.144      0.256        -0.017     0.063\n",
       "==============================================================================\n",
       "Omnibus:                       12.018   Durbin-Watson:                   1.586\n",
       "Prob(Omnibus):                  0.002   Jarque-Bera (JB):               13.436\n",
       "Skew:                           0.936   Prob(JB):                      0.00121\n",
       "Kurtosis:                       3.058   Cond. No.                         8.80\n",
       "==============================================================================\n",
       "\n",
       "Warnings:\n",
       "[1] Standard Errors assume that the covariance matrix of the errors is correctly specified.\n",
       "\"\"\""
      ]
     },
     "execution_count": 15,
     "metadata": {},
     "output_type": "execute_result"
    }
   ],
   "source": [
    "reg1 = sm.ols('KillingsPer100Thou ~ F_Murder100k', data=result).fit()\n",
    "reg1.summary()"
   ]
  },
  {
   "cell_type": "code",
   "execution_count": 17,
   "metadata": {
    "collapsed": false
   },
   "outputs": [],
   "source": [
    "# this is agency-level crime data for jurisdictions of 100K and up\n",
    "# crime rates in COUNT PER 100K POPULATION\n",
    "# focus on non-violent crime\n",
    "# all data is from 2014\n",
    "metro_crime = pd.read_csv('Data/metro2014crime_100Kandup.csv')"
   ]
  },
  {
   "cell_type": "code",
   "execution_count": 18,
   "metadata": {
    "collapsed": false
   },
   "outputs": [
    {
     "data": {
      "text/plain": [
       "Index([u'Agency', u'State', u'Months', u'Population', u'Violent crime total',\n",
       "       u'Murder and nonnegligent Manslaughter', u'Legacy rape /1',\n",
       "       u'Revised rape /2', u'Robbery', u'Aggravated assault',\n",
       "       u'Property crime total', u'Burglary', u'Larceny-theft',\n",
       "       u'Motor vehicle theft', u'Violent Crime rate',\n",
       "       u'Murder and nonnegligent manslaughter rate', u'Legacy rape rate /1',\n",
       "       u'Revised rape rate /2', u'Robbery rate', u'Aggravated assault rate',\n",
       "       u'Property crime rate', u'Burglary rate', u'Larceny-theft rate',\n",
       "       u'Motor vehicle theft rate'],\n",
       "      dtype='object')"
      ]
     },
     "execution_count": 18,
     "metadata": {},
     "output_type": "execute_result"
    }
   ],
   "source": [
    "metro_crime.columns"
   ]
  },
  {
   "cell_type": "code",
   "execution_count": 19,
   "metadata": {
    "collapsed": false
   },
   "outputs": [
    {
     "data": {
      "text/html": [
       "<div>\n",
       "<table border=\"1\" class=\"dataframe\">\n",
       "  <thead>\n",
       "    <tr style=\"text-align: right;\">\n",
       "      <th></th>\n",
       "      <th>Agency</th>\n",
       "      <th>Population</th>\n",
       "      <th>Property crime rate</th>\n",
       "      <th>Burglary rate</th>\n",
       "      <th>Larceny-theft rate</th>\n",
       "      <th>Motor vehicle theft rate</th>\n",
       "    </tr>\n",
       "  </thead>\n",
       "  <tbody>\n",
       "    <tr>\n",
       "      <th>0</th>\n",
       "      <td>Abilene Police Dept</td>\n",
       "      <td>120686</td>\n",
       "      <td>4428.0</td>\n",
       "      <td>907.3</td>\n",
       "      <td>3220.8</td>\n",
       "      <td>300.0</td>\n",
       "    </tr>\n",
       "    <tr>\n",
       "      <th>1</th>\n",
       "      <td>Akron City Police Dept</td>\n",
       "      <td>197891</td>\n",
       "      <td>4610.1</td>\n",
       "      <td>1456.9</td>\n",
       "      <td>2860.2</td>\n",
       "      <td>293.1</td>\n",
       "    </tr>\n",
       "    <tr>\n",
       "      <th>2</th>\n",
       "      <td>Albuquerque Police Dept</td>\n",
       "      <td>558874</td>\n",
       "      <td>5446.1</td>\n",
       "      <td>1095.6</td>\n",
       "      <td>3713.9</td>\n",
       "      <td>636.6</td>\n",
       "    </tr>\n",
       "  </tbody>\n",
       "</table>\n",
       "</div>"
      ],
      "text/plain": [
       "                    Agency  Population  Property crime rate  Burglary rate  \\\n",
       "0      Abilene Police Dept      120686               4428.0          907.3   \n",
       "1   Akron City Police Dept      197891               4610.1         1456.9   \n",
       "2  Albuquerque Police Dept      558874               5446.1         1095.6   \n",
       "\n",
       "   Larceny-theft rate  Motor vehicle theft rate  \n",
       "0              3220.8                     300.0  \n",
       "1              2860.2                     293.1  \n",
       "2              3713.9                     636.6  "
      ]
     },
     "execution_count": 19,
     "metadata": {},
     "output_type": "execute_result"
    }
   ],
   "source": [
    "metro_crime = metro_crime.loc[:, ['Agency', 'Population', 'Property crime rate', 'Burglary rate', 'Larceny-theft rate',\n",
    "       'Motor vehicle theft rate']]\n",
    "metro_crime.head(3)"
   ]
  },
  {
   "cell_type": "code",
   "execution_count": 20,
   "metadata": {
    "collapsed": true
   },
   "outputs": [],
   "source": [
    "# clean city names\n",
    "metro_crime.loc[:, 'Agency'] = map(lambda s: s.replace(' Police Dept', ''), metro_crime.loc[:, 'Agency'])"
   ]
  },
  {
   "cell_type": "code",
   "execution_count": 21,
   "metadata": {
    "collapsed": true
   },
   "outputs": [],
   "source": [
    "# many are part of PDI?\n",
    "# how many are part of PDI?\n",
    "metro_crime = metro_crime.merge(pdi, how='left', left_on='Agency', right_on='City')\n",
    "metro_crime.drop(['City'], axis=1, inplace=True)\n",
    "metro_crime['is_PDI'].fillna(0, inplace=True)"
   ]
  },
  {
   "cell_type": "code",
   "execution_count": 22,
   "metadata": {
    "collapsed": false
   },
   "outputs": [
    {
     "data": {
      "text/plain": [
       "62.0"
      ]
     },
     "execution_count": 22,
     "metadata": {},
     "output_type": "execute_result"
    }
   ],
   "source": [
    "metro_crime.is_PDI.sum()"
   ]
  },
  {
   "cell_type": "code",
   "execution_count": 23,
   "metadata": {
    "collapsed": true
   },
   "outputs": [],
   "source": [
    "# binning city populations\n",
    "def pop_group(pop):\n",
    "    if pop < 250000:\n",
    "        return '100K-250K'\n",
    "    elif pop < 500000:\n",
    "        return '250K-500K'\n",
    "    elif pop < 1000000:\n",
    "        return '500K-1M'\n",
    "    else:\n",
    "        return '1M+'"
   ]
  },
  {
   "cell_type": "code",
   "execution_count": 24,
   "metadata": {
    "collapsed": true
   },
   "outputs": [],
   "source": [
    "metro_crime['pop_bin'] = map(pop_group, metro_crime.loc[:, 'Population'])"
   ]
  },
  {
   "cell_type": "code",
   "execution_count": 25,
   "metadata": {
    "collapsed": false
   },
   "outputs": [
    {
     "data": {
      "text/plain": [
       "pop_bin    is_PDI\n",
       "100K-250K  0.0       186\n",
       "           1.0        31\n",
       "1M+        0.0         5\n",
       "           1.0         6\n",
       "250K-500K  0.0        33\n",
       "           1.0        13\n",
       "500K-1M    0.0        12\n",
       "           1.0        12\n",
       "Name: Agency, dtype: int64"
      ]
     },
     "execution_count": 25,
     "metadata": {},
     "output_type": "execute_result"
    }
   ],
   "source": [
    "# bin sizes\n",
    "metro_crime.groupby(['pop_bin', 'is_PDI']).count()['Agency']"
   ]
  },
  {
   "cell_type": "code",
   "execution_count": 26,
   "metadata": {
    "collapsed": false
   },
   "outputs": [
    {
     "data": {
      "text/html": [
       "<div>\n",
       "<table border=\"1\" class=\"dataframe\">\n",
       "  <thead>\n",
       "    <tr style=\"text-align: right;\">\n",
       "      <th></th>\n",
       "      <th></th>\n",
       "      <th>Population</th>\n",
       "      <th>Property crime rate</th>\n",
       "      <th>Burglary rate</th>\n",
       "      <th>Larceny-theft rate</th>\n",
       "      <th>Motor vehicle theft rate</th>\n",
       "    </tr>\n",
       "    <tr>\n",
       "      <th>pop_bin</th>\n",
       "      <th>is_PDI</th>\n",
       "      <th></th>\n",
       "      <th></th>\n",
       "      <th></th>\n",
       "      <th></th>\n",
       "      <th></th>\n",
       "    </tr>\n",
       "  </thead>\n",
       "  <tbody>\n",
       "    <tr>\n",
       "      <th rowspan=\"2\" valign=\"top\">100K-250K</th>\n",
       "      <th>0.0</th>\n",
       "      <td>148614.0</td>\n",
       "      <td>3135.2</td>\n",
       "      <td>633.9</td>\n",
       "      <td>2200.9</td>\n",
       "      <td>300.3</td>\n",
       "    </tr>\n",
       "    <tr>\n",
       "      <th>1.0</th>\n",
       "      <td>150483.0</td>\n",
       "      <td>4320.9</td>\n",
       "      <td>853.4</td>\n",
       "      <td>3044.8</td>\n",
       "      <td>422.7</td>\n",
       "    </tr>\n",
       "    <tr>\n",
       "      <th rowspan=\"2\" valign=\"top\">1M+</th>\n",
       "      <th>0.0</th>\n",
       "      <td>3295748.0</td>\n",
       "      <td>3215.3</td>\n",
       "      <td>711.3</td>\n",
       "      <td>2094.4</td>\n",
       "      <td>409.6</td>\n",
       "    </tr>\n",
       "    <tr>\n",
       "      <th>1.0</th>\n",
       "      <td>1757510.0</td>\n",
       "      <td>3152.6</td>\n",
       "      <td>612.5</td>\n",
       "      <td>2058.7</td>\n",
       "      <td>481.4</td>\n",
       "    </tr>\n",
       "    <tr>\n",
       "      <th rowspan=\"2\" valign=\"top\">250K-500K</th>\n",
       "      <th>0.0</th>\n",
       "      <td>348695.0</td>\n",
       "      <td>3684.4</td>\n",
       "      <td>791.7</td>\n",
       "      <td>2534.1</td>\n",
       "      <td>385.3</td>\n",
       "    </tr>\n",
       "    <tr>\n",
       "      <th>1.0</th>\n",
       "      <td>329582.0</td>\n",
       "      <td>4085.2</td>\n",
       "      <td>836.4</td>\n",
       "      <td>2679.3</td>\n",
       "      <td>569.4</td>\n",
       "    </tr>\n",
       "    <tr>\n",
       "      <th rowspan=\"2\" valign=\"top\">500K-1M</th>\n",
       "      <th>0.0</th>\n",
       "      <td>713402.0</td>\n",
       "      <td>4189.0</td>\n",
       "      <td>907.5</td>\n",
       "      <td>2882.8</td>\n",
       "      <td>398.7</td>\n",
       "    </tr>\n",
       "    <tr>\n",
       "      <th>1.0</th>\n",
       "      <td>703216.0</td>\n",
       "      <td>4586.3</td>\n",
       "      <td>877.7</td>\n",
       "      <td>3051.5</td>\n",
       "      <td>625.1</td>\n",
       "    </tr>\n",
       "  </tbody>\n",
       "</table>\n",
       "</div>"
      ],
      "text/plain": [
       "                  Population  Property crime rate  Burglary rate  \\\n",
       "pop_bin   is_PDI                                                   \n",
       "100K-250K 0.0       148614.0               3135.2          633.9   \n",
       "          1.0       150483.0               4320.9          853.4   \n",
       "1M+       0.0      3295748.0               3215.3          711.3   \n",
       "          1.0      1757510.0               3152.6          612.5   \n",
       "250K-500K 0.0       348695.0               3684.4          791.7   \n",
       "          1.0       329582.0               4085.2          836.4   \n",
       "500K-1M   0.0       713402.0               4189.0          907.5   \n",
       "          1.0       703216.0               4586.3          877.7   \n",
       "\n",
       "                  Larceny-theft rate  Motor vehicle theft rate  \n",
       "pop_bin   is_PDI                                                \n",
       "100K-250K 0.0                 2200.9                     300.3  \n",
       "          1.0                 3044.8                     422.7  \n",
       "1M+       0.0                 2094.4                     409.6  \n",
       "          1.0                 2058.7                     481.4  \n",
       "250K-500K 0.0                 2534.1                     385.3  \n",
       "          1.0                 2679.3                     569.4  \n",
       "500K-1M   0.0                 2882.8                     398.7  \n",
       "          1.0                 3051.5                     625.1  "
      ]
     },
     "execution_count": 26,
     "metadata": {},
     "output_type": "execute_result"
    }
   ],
   "source": [
    "metro_crime.groupby(['pop_bin', 'is_PDI']).mean().applymap(lambda x: round(x, 1))"
   ]
  },
  {
   "cell_type": "code",
   "execution_count": 31,
   "metadata": {
    "collapsed": false
   },
   "outputs": [
    {
     "data": {
      "text/html": [
       "<div>\n",
       "<table border=\"1\" class=\"dataframe\">\n",
       "  <thead>\n",
       "    <tr style=\"text-align: right;\">\n",
       "      <th></th>\n",
       "      <th>Agency</th>\n",
       "      <th>Population</th>\n",
       "      <th>Property_crime_rate</th>\n",
       "      <th>Burglary_rate</th>\n",
       "      <th>Larceny_rate</th>\n",
       "      <th>Motor_vehicle_theft_rate</th>\n",
       "      <th>is_PDI</th>\n",
       "      <th>pop_bin</th>\n",
       "    </tr>\n",
       "  </thead>\n",
       "  <tbody>\n",
       "    <tr>\n",
       "      <th>0</th>\n",
       "      <td>Abilene</td>\n",
       "      <td>120686</td>\n",
       "      <td>4428.0</td>\n",
       "      <td>907.3</td>\n",
       "      <td>3220.8</td>\n",
       "      <td>300.0</td>\n",
       "      <td>0.0</td>\n",
       "      <td>100K-250K</td>\n",
       "    </tr>\n",
       "    <tr>\n",
       "      <th>1</th>\n",
       "      <td>Akron City</td>\n",
       "      <td>197891</td>\n",
       "      <td>4610.1</td>\n",
       "      <td>1456.9</td>\n",
       "      <td>2860.2</td>\n",
       "      <td>293.1</td>\n",
       "      <td>0.0</td>\n",
       "      <td>100K-250K</td>\n",
       "    </tr>\n",
       "    <tr>\n",
       "      <th>2</th>\n",
       "      <td>Albuquerque</td>\n",
       "      <td>558874</td>\n",
       "      <td>5446.1</td>\n",
       "      <td>1095.6</td>\n",
       "      <td>3713.9</td>\n",
       "      <td>636.6</td>\n",
       "      <td>1.0</td>\n",
       "      <td>500K-1M</td>\n",
       "    </tr>\n",
       "    <tr>\n",
       "      <th>3</th>\n",
       "      <td>Alexandria</td>\n",
       "      <td>151065</td>\n",
       "      <td>1974.6</td>\n",
       "      <td>171.4</td>\n",
       "      <td>1626.5</td>\n",
       "      <td>176.7</td>\n",
       "      <td>0.0</td>\n",
       "      <td>100K-250K</td>\n",
       "    </tr>\n",
       "    <tr>\n",
       "      <th>4</th>\n",
       "      <td>Allentown City</td>\n",
       "      <td>118710</td>\n",
       "      <td>3218.8</td>\n",
       "      <td>791.8</td>\n",
       "      <td>2197.0</td>\n",
       "      <td>230.0</td>\n",
       "      <td>0.0</td>\n",
       "      <td>100K-250K</td>\n",
       "    </tr>\n",
       "  </tbody>\n",
       "</table>\n",
       "</div>"
      ],
      "text/plain": [
       "           Agency  Population  Property_crime_rate  Burglary_rate  \\\n",
       "0         Abilene      120686               4428.0          907.3   \n",
       "1      Akron City      197891               4610.1         1456.9   \n",
       "2     Albuquerque      558874               5446.1         1095.6   \n",
       "3      Alexandria      151065               1974.6          171.4   \n",
       "4  Allentown City      118710               3218.8          791.8   \n",
       "\n",
       "   Larceny_rate  Motor_vehicle_theft_rate  is_PDI    pop_bin  \n",
       "0        3220.8                     300.0     0.0  100K-250K  \n",
       "1        2860.2                     293.1     0.0  100K-250K  \n",
       "2        3713.9                     636.6     1.0    500K-1M  \n",
       "3        1626.5                     176.7     0.0  100K-250K  \n",
       "4        2197.0                     230.0     0.0  100K-250K  "
      ]
     },
     "execution_count": 31,
     "metadata": {},
     "output_type": "execute_result"
    }
   ],
   "source": [
    "metro_crime_gp = metro_crime.rename(columns=lambda x: x.replace(' ', '_'))\n",
    "metro_crime_gp.columns.values[4] = 'Larceny_rate' \n",
    "metro_crime_gp.head()"
   ]
  },
  {
   "cell_type": "code",
   "execution_count": 45,
   "metadata": {
    "collapsed": false
   },
   "outputs": [],
   "source": [
    "metro_crime_gp = metro_crime_gp.dropna()"
   ]
  },
  {
   "cell_type": "code",
   "execution_count": 65,
   "metadata": {
    "collapsed": false
   },
   "outputs": [],
   "source": [
    "X = metro_crime_gp.iloc[:,1:5]\n",
    "y = metro_crime_gp.is_PDI\n",
    "X_train, X_test, y_train, y_test = train_test_split(X, y, test_size = 0.3, random_state = 123)"
   ]
  },
  {
   "cell_type": "code",
   "execution_count": 66,
   "metadata": {
    "collapsed": false
   },
   "outputs": [
    {
     "data": {
      "text/plain": [
       "LogisticRegression(C=1, class_weight=None, dual=False, fit_intercept=True,\n",
       "          intercept_scaling=1, max_iter=100, multi_class='ovr', n_jobs=1,\n",
       "          penalty='l2', random_state=None, solver='liblinear', tol=0.0001,\n",
       "          verbose=0, warm_start=False)"
      ]
     },
     "execution_count": 66,
     "metadata": {},
     "output_type": "execute_result"
    }
   ],
   "source": [
    "#learn logistic regression over the data\n",
    "logit = LogisticRegression(C=1)\n",
    "logit.fit(X_train, y_train)"
   ]
  },
  {
   "cell_type": "code",
   "execution_count": null,
   "metadata": {
    "collapsed": false
   },
   "outputs": [],
   "source": [
    "r_tree = RFC()\n",
    "param_grid = {'max_depth': [3, 5, 7, 9], 'n_estimators': np.arange(1,502,100)}\n",
    "r_tree_tuned = GridSearchCV(r_tree, param_grid)\n",
    "#r_tree_optimum = RFC(r_tree_tuned.best_estimator_)\n",
    "r_tree_tuned.fit(X_train, y_train)"
   ]
  },
  {
   "cell_type": "code",
   "execution_count": null,
   "metadata": {
    "collapsed": true
   },
   "outputs": [],
   "source": [
    "feature_importance = r_tree_tuned.best_estimator_.fit(X_train, y_train).feature_importances_"
   ]
  },
  {
   "cell_type": "code",
   "execution_count": null,
   "metadata": {
    "collapsed": true
   },
   "outputs": [],
   "source": [
    "Feature_importance_df = pd.DataFrame([list(X_train.columns), list(feature_importance)]).T\n",
    "Feature_importance_df.columns = [\"variables\", \"importance\"]\n",
    "Feature_importance_df.sort_values(by=\"importance\", ascending=False)"
   ]
  },
  {
   "cell_type": "code",
   "execution_count": null,
   "metadata": {
    "collapsed": true
   },
   "outputs": [],
   "source": [
    "#apply to the validation sample\n",
    "labelPred = r_tree_tuned.predict(X_test)\n",
    "labelActual = y_test\n",
    "sum(labelPred)"
   ]
  },
  {
   "cell_type": "code",
   "execution_count": null,
   "metadata": {
    "collapsed": true
   },
   "outputs": [],
   "source": [
    "#compute TP,FP,FN,TN for the above classification\n",
    "TP = sum((labelPred==1)&(labelActual==1))\n",
    "FP = sum((labelPred==1)&(labelActual==0))\n",
    "FN = sum((labelPred==0)&(labelActual==1))\n",
    "TN = sum((labelPred==0)&(labelActual==0))\n",
    "\n",
    "#compute precision, accuracy and recall\n",
    "Prec= 100.0 * TP/(TP+FP)\n",
    "Acc = 100.0 * (TP+TN)/(TP+TN+FP+FN)\n",
    "Rec = 100.0 * TP/(TP+FN)\n",
    "print('Precision = %.2f%%\\nAccuracy = %.2f%%\\nRecall = %.2f%%'%(Prec,Acc,Rec))"
   ]
  }
 ],
 "metadata": {
  "anaconda-cloud": {},
  "kernelspec": {
   "display_name": "Python [Root]",
   "language": "python",
   "name": "Python [Root]"
  },
  "language_info": {
   "codemirror_mode": {
    "name": "ipython",
    "version": 2
   },
   "file_extension": ".py",
   "mimetype": "text/x-python",
   "name": "python",
   "nbconvert_exporter": "python",
   "pygments_lexer": "ipython2",
   "version": "2.7.12"
  }
 },
 "nbformat": 4,
 "nbformat_minor": 1
}
